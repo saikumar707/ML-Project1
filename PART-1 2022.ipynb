{
 "cells": [
  {
   "cell_type": "markdown",
   "id": "3887c72f",
   "metadata": {},
   "source": [
    "# ABOUT PYTHON PROGRAMMING "
   ]
  },
  {
   "cell_type": "code",
   "execution_count": null,
   "id": "413df8f7",
   "metadata": {},
   "outputs": [],
   "source": [
    "# PYTHON PROGRAMMING CAN BE DONE IN 3 APPLICATIONS\n",
    "# 1. PYTHON JUPYTER NOTEBOOK\n",
    "# 2. PYSPYDER IDE\n",
    "# 3. PYCHARM IDE"
   ]
  },
  {
   "cell_type": "markdown",
   "id": "686e7efb",
   "metadata": {},
   "source": [
    "# PYTHON PROGRAMMING IS VERY MUCH CASE SENSITIVE"
   ]
  },
  {
   "cell_type": "code",
   "execution_count": null,
   "id": "62f21e3f",
   "metadata": {},
   "outputs": [],
   "source": [
    "# WHEN WE CREATE A VARIABLE AND INSERT VALUES TO THE VARIABLE\n",
    "# BOTH ARE VERY MUCH CASE SENSITIVE IN TERMS CALLING TEH PROGRAM ON THIS\n",
    "# PYTHON STATEMENT,FUNCTIONS,OPTIONS AND VARIABLES ARE VERY MUCH CASE SENSITIVE"
   ]
  },
  {
   "cell_type": "code",
   "execution_count": null,
   "id": "27de58d1",
   "metadata": {},
   "outputs": [],
   "source": [
    "INSTITUTE=\"DV ANALYTICS\"\n",
    "\n",
    "INSTITUTE"
   ]
  },
  {
   "cell_type": "code",
   "execution_count": null,
   "id": "301e8dd6",
   "metadata": {},
   "outputs": [],
   "source": [
    "PRINT(INSTITUTE)"
   ]
  },
  {
   "cell_type": "code",
   "execution_count": null,
   "id": "8aa300f3",
   "metadata": {},
   "outputs": [],
   "source": [
    "print(INSTITUTE)"
   ]
  },
  {
   "cell_type": "code",
   "execution_count": null,
   "id": "438dadd3",
   "metadata": {},
   "outputs": [],
   "source": [
    "print(institute)"
   ]
  },
  {
   "cell_type": "markdown",
   "id": "f9dc1e53",
   "metadata": {},
   "source": [
    "# HOW TO DEFINE VARIABLE, VALUES AND DATA TYPES"
   ]
  },
  {
   "cell_type": "code",
   "execution_count": null,
   "id": "c9141ad4",
   "metadata": {},
   "outputs": [],
   "source": [
    "A=100\n",
    "A"
   ]
  },
  {
   "cell_type": "code",
   "execution_count": null,
   "id": "ce06be07",
   "metadata": {},
   "outputs": [],
   "source": [
    "A=100\n",
    "B=200\n",
    "C=A+B\n",
    "C"
   ]
  },
  {
   "cell_type": "code",
   "execution_count": null,
   "id": "a3d9e7b6",
   "metadata": {},
   "outputs": [],
   "source": [
    "# ADDITION BY EXPRESSION\n",
    "100+200"
   ]
  },
  {
   "cell_type": "code",
   "execution_count": null,
   "id": "942c5b62",
   "metadata": {},
   "outputs": [],
   "source": [
    "# SUBSTRACTION BY EXPRESSION\n",
    "200-100"
   ]
  },
  {
   "cell_type": "code",
   "execution_count": null,
   "id": "a059f3f4",
   "metadata": {},
   "outputs": [],
   "source": [
    "# MULTIPLICATION BY EXPRESSION\n",
    "100*200"
   ]
  },
  {
   "cell_type": "code",
   "execution_count": null,
   "id": "fa5c5d87",
   "metadata": {},
   "outputs": [],
   "source": [
    "# DIVISION BY EXPRESSION\n",
    "200/100"
   ]
  },
  {
   "cell_type": "code",
   "execution_count": null,
   "id": "df922248",
   "metadata": {},
   "outputs": [],
   "source": [
    "#TO GET REMAINDER\n",
    "150%100"
   ]
  },
  {
   "cell_type": "code",
   "execution_count": null,
   "id": "9887169f",
   "metadata": {},
   "outputs": [],
   "source": [
    "#TO GET QUOTIENT\n",
    "150//100"
   ]
  },
  {
   "cell_type": "code",
   "execution_count": null,
   "id": "3657c38b",
   "metadata": {},
   "outputs": [],
   "source": [
    "# TO GET POWER\n",
    "10**2"
   ]
  },
  {
   "cell_type": "markdown",
   "id": "25a11265",
   "metadata": {},
   "source": [
    "# VARIABLE VALUES "
   ]
  },
  {
   "cell_type": "code",
   "execution_count": null,
   "id": "be169406",
   "metadata": {},
   "outputs": [],
   "source": [
    "A=100\n",
    "B=200\n",
    "C=A+B\n",
    "C"
   ]
  },
  {
   "cell_type": "code",
   "execution_count": null,
   "id": "19c35740",
   "metadata": {},
   "outputs": [],
   "source": [
    "A=100\n",
    "B=200\n",
    "C=B-A\n",
    "C"
   ]
  },
  {
   "cell_type": "code",
   "execution_count": null,
   "id": "5ab460b3",
   "metadata": {},
   "outputs": [],
   "source": [
    "A=100\n",
    "B=200\n",
    "C=A*B\n",
    "C"
   ]
  },
  {
   "cell_type": "code",
   "execution_count": null,
   "id": "2278c49b",
   "metadata": {},
   "outputs": [],
   "source": [
    "A=100\n",
    "B=200\n",
    "C=B/A\n",
    "C"
   ]
  },
  {
   "cell_type": "code",
   "execution_count": null,
   "id": "1b19d34a",
   "metadata": {},
   "outputs": [],
   "source": [
    "A=150\n",
    "B=100\n",
    "C=A%B\n",
    "C"
   ]
  },
  {
   "cell_type": "code",
   "execution_count": null,
   "id": "46de81bf",
   "metadata": {},
   "outputs": [],
   "source": [
    "A=150\n",
    "B=100\n",
    "C=A//B\n",
    "C"
   ]
  },
  {
   "cell_type": "code",
   "execution_count": null,
   "id": "98347dcf",
   "metadata": {},
   "outputs": [],
   "source": [
    "FIRST_NAME='BHUPIT'\n",
    "LAST_NAME='BEHL'\n",
    "FULL_NAME=FIRST_NAME+' '+LAST_NAME\n",
    "FULL_NAME"
   ]
  },
  {
   "cell_type": "code",
   "execution_count": null,
   "id": "317eaaef",
   "metadata": {},
   "outputs": [],
   "source": [
    "print(FULL_NAME)"
   ]
  },
  {
   "cell_type": "code",
   "execution_count": null,
   "id": "fe20c2cd",
   "metadata": {},
   "outputs": [],
   "source": [
    "# CHARACTER VALUE IN LOOPING AND REPEATATION\n",
    "\n",
    "INSTITUTE='DV'\n",
    "print(INSTITUTE*10)"
   ]
  },
  {
   "cell_type": "code",
   "execution_count": null,
   "id": "8344573b",
   "metadata": {},
   "outputs": [],
   "source": [
    "INSTITUTE='DV\\n'\n",
    "print(INSTITUTE*10)"
   ]
  },
  {
   "cell_type": "markdown",
   "id": "5695c7da",
   "metadata": {},
   "source": [
    "# DEFINING DATA READING PATH IS VERY MUCH CASE SENSITIVE"
   ]
  },
  {
   "cell_type": "code",
   "execution_count": null,
   "id": "9edf8c1f",
   "metadata": {},
   "outputs": [],
   "source": [
    "#ERROR\n",
    "print ('C:\\Users\\Debendra\\CRASH COURSE 2022\\PART-1\\A2.RAW_DATA\\MED_STORE_2022.xlsx')"
   ]
  },
  {
   "cell_type": "code",
   "execution_count": null,
   "id": "75c86cd7",
   "metadata": {},
   "outputs": [],
   "source": [
    "#CORRECT\n",
    "print (r'C:\\Users\\Debendra\\CRASH COURSE 2022\\PART-1\\A2.RAW_DATA\\MED_STORE_2022.xlsx')"
   ]
  },
  {
   "cell_type": "code",
   "execution_count": null,
   "id": "d1f7b75c",
   "metadata": {},
   "outputs": [],
   "source": [
    "#ERROR\n",
    "print ('C:\\Users\\Debendra\\CRASH COURSE 2022\\PART-1\\n2.RAW_DATA\\MED_STORE_2022.xlsx')"
   ]
  },
  {
   "cell_type": "code",
   "execution_count": null,
   "id": "924b9444",
   "metadata": {},
   "outputs": [],
   "source": [
    "#CORRECT\n",
    "print (r'C:\\Users\\Debendra\\CRASH COURSE 2022\\PART-1\\n2.RAW_DATA\\MED_STORE_2022.xlsx')"
   ]
  },
  {
   "cell_type": "code",
   "execution_count": null,
   "id": "d006c2d3",
   "metadata": {},
   "outputs": [],
   "source": [
    "# WHEN WE READ DATA FROM A PATH USING \\a OR \\n. SUCH CASES WE MUST USE r'PATH'"
   ]
  },
  {
   "cell_type": "markdown",
   "id": "34f34490",
   "metadata": {},
   "source": [
    "# UNDERSTAND DATA TYPES IN PYTHON"
   ]
  },
  {
   "cell_type": "code",
   "execution_count": null,
   "id": "9b5f201d",
   "metadata": {},
   "outputs": [],
   "source": [
    "A=100\n",
    "B=12.34\n",
    "C=100+300j\n",
    "NAME='BHUPIT BEHL'\n"
   ]
  },
  {
   "cell_type": "code",
   "execution_count": null,
   "id": "eb5d24cf",
   "metadata": {},
   "outputs": [],
   "source": [
    "#UNDERSTAND DATA TYPES\n",
    "\n",
    "type(A)"
   ]
  },
  {
   "cell_type": "code",
   "execution_count": null,
   "id": "eed5b764",
   "metadata": {},
   "outputs": [],
   "source": [
    "type(B)"
   ]
  },
  {
   "cell_type": "code",
   "execution_count": null,
   "id": "f417e583",
   "metadata": {},
   "outputs": [],
   "source": [
    "type(C)"
   ]
  },
  {
   "cell_type": "code",
   "execution_count": null,
   "id": "aad32064",
   "metadata": {},
   "outputs": [],
   "source": [
    "type(NAME)"
   ]
  },
  {
   "cell_type": "markdown",
   "id": "68970ab0",
   "metadata": {},
   "source": [
    "# DEFINE VARIABLES BY TYPES LIKE LIST,TUPLE,SET AND DICTIONARY"
   ]
  },
  {
   "cell_type": "code",
   "execution_count": null,
   "id": "608f5b59",
   "metadata": {},
   "outputs": [],
   "source": [
    "# LIST VARIABLE\n",
    "NAME=['PRABHANSHU','VALENTINA','CHANDRAKANT','ABINASH','SRAVANI']\n",
    "\n",
    "NAME"
   ]
  },
  {
   "cell_type": "code",
   "execution_count": null,
   "id": "11450dc7",
   "metadata": {},
   "outputs": [],
   "source": [
    "type(NAME)"
   ]
  },
  {
   "cell_type": "code",
   "execution_count": null,
   "id": "8b0f59cf",
   "metadata": {},
   "outputs": [],
   "source": [
    "# TUPLE VARIABLE\n",
    "NAME=('PRABHANSHU','VALENTINA','CHANDRAKANT','ABINASH','SRAVANI')\n",
    "\n",
    "NAME"
   ]
  },
  {
   "cell_type": "code",
   "execution_count": null,
   "id": "445397e9",
   "metadata": {},
   "outputs": [],
   "source": [
    "type(NAME)"
   ]
  },
  {
   "cell_type": "code",
   "execution_count": null,
   "id": "7d3b1316",
   "metadata": {},
   "outputs": [],
   "source": [
    "# SET VARIABLE\n",
    "NAME={'PRABHANSHU','VALENTINA','CHANDRAKANT','ABINASH','SRAVANI'}\n",
    "\n",
    "NAME"
   ]
  },
  {
   "cell_type": "code",
   "execution_count": null,
   "id": "63ba0789",
   "metadata": {},
   "outputs": [],
   "source": [
    "type(NAME)"
   ]
  },
  {
   "cell_type": "code",
   "execution_count": null,
   "id": "23877c82",
   "metadata": {},
   "outputs": [],
   "source": [
    "# DICTIONARY VARIABLE\n",
    "NAME={'PRABHANSHU':25,'VALENTINA':27,'CHANDRAKANT':28,'ABINASH':30,'SRAVANI':30}\n",
    "\n",
    "NAME"
   ]
  },
  {
   "cell_type": "code",
   "execution_count": null,
   "id": "14bdd375",
   "metadata": {
    "scrolled": true
   },
   "outputs": [],
   "source": [
    "type(NAME)"
   ]
  },
  {
   "cell_type": "code",
   "execution_count": null,
   "id": "c2e067b9",
   "metadata": {},
   "outputs": [],
   "source": [
    "# DEFINING RANEG AS A DATA TYPE\n",
    "ROW_NUM=range(0,10)\n",
    "\n",
    "ROW_NUM"
   ]
  },
  {
   "cell_type": "code",
   "execution_count": null,
   "id": "e896ba57",
   "metadata": {
    "scrolled": true
   },
   "outputs": [],
   "source": [
    "list(ROW_NUM)"
   ]
  },
  {
   "cell_type": "code",
   "execution_count": null,
   "id": "885dae4c",
   "metadata": {},
   "outputs": [],
   "source": [
    "type(ROW_NUM)"
   ]
  },
  {
   "cell_type": "markdown",
   "id": "e0da403e",
   "metadata": {},
   "source": [
    "# LIST ALL THE DATA TYPES IN PYTHON"
   ]
  },
  {
   "cell_type": "code",
   "execution_count": null,
   "id": "39271139",
   "metadata": {},
   "outputs": [],
   "source": [
    "# INTERVIEW QUESTION WILL COME , LIST OUT ALL THE DATA TYPES IN PYTHON YOU HAVE WORKED WITH\n",
    "# 1. INT\n",
    "# 2. FLOAT\n",
    "# 3. STR\n",
    "# 4. COMPLEX\n",
    "# 5. LIST\n",
    "# 6. TUPLE\n",
    "# 7. SET\n",
    "# 8. DICT\n",
    "# 9. RANGE"
   ]
  },
  {
   "cell_type": "markdown",
   "id": "6e3198f5",
   "metadata": {},
   "source": [
    "# HOW TO RETRIEVE VALUES BY GIVEN POSITIONS"
   ]
  },
  {
   "cell_type": "code",
   "execution_count": null,
   "id": "4de6c26e",
   "metadata": {},
   "outputs": [],
   "source": [
    "INSTITUTE='DV ANALYTICS'\n",
    "\n",
    "len(INSTITUTE)"
   ]
  },
  {
   "cell_type": "code",
   "execution_count": null,
   "id": "a40ee7d1",
   "metadata": {},
   "outputs": [],
   "source": [
    "INSTITUTE[0]"
   ]
  },
  {
   "cell_type": "code",
   "execution_count": null,
   "id": "0a7a24a7",
   "metadata": {},
   "outputs": [],
   "source": [
    "INSTITUTE[1]"
   ]
  },
  {
   "cell_type": "code",
   "execution_count": null,
   "id": "2a06151a",
   "metadata": {},
   "outputs": [],
   "source": [
    "INSTITUTE[2]"
   ]
  },
  {
   "cell_type": "code",
   "execution_count": null,
   "id": "969a2d97",
   "metadata": {},
   "outputs": [],
   "source": [
    "INSTITUTE[-1]"
   ]
  },
  {
   "cell_type": "code",
   "execution_count": null,
   "id": "da93e9ae",
   "metadata": {},
   "outputs": [],
   "source": [
    "INSTITUTE[-2]"
   ]
  },
  {
   "cell_type": "code",
   "execution_count": null,
   "id": "e5b2617f",
   "metadata": {},
   "outputs": [],
   "source": [
    "INSTITUTE[0:]"
   ]
  },
  {
   "cell_type": "code",
   "execution_count": null,
   "id": "81814ed5",
   "metadata": {},
   "outputs": [],
   "source": [
    "INSTITUTE[0:2]"
   ]
  },
  {
   "cell_type": "code",
   "execution_count": null,
   "id": "dab0c4d4",
   "metadata": {},
   "outputs": [],
   "source": [
    "INSTITUTE[3:]"
   ]
  },
  {
   "cell_type": "code",
   "execution_count": null,
   "id": "f11e1fc4",
   "metadata": {},
   "outputs": [],
   "source": [
    "INSTITUTE[0:0]"
   ]
  },
  {
   "cell_type": "code",
   "execution_count": null,
   "id": "84733e2c",
   "metadata": {},
   "outputs": [],
   "source": [
    "INSTITUTE[1:1]"
   ]
  },
  {
   "cell_type": "code",
   "execution_count": null,
   "id": "abe30ac9",
   "metadata": {},
   "outputs": [],
   "source": [
    "INSTITUTE[-1:1]"
   ]
  },
  {
   "cell_type": "code",
   "execution_count": null,
   "id": "3bdd3752",
   "metadata": {},
   "outputs": [],
   "source": [
    "#CALL VALUES FROM LIST\n",
    "\n",
    "STU_ID=['S1','S2','S3','S4','S5']\n",
    "STU_ID"
   ]
  },
  {
   "cell_type": "code",
   "execution_count": null,
   "id": "26fa7e9a",
   "metadata": {},
   "outputs": [],
   "source": [
    "len(STU_ID)"
   ]
  },
  {
   "cell_type": "code",
   "execution_count": null,
   "id": "b3b47743",
   "metadata": {},
   "outputs": [],
   "source": [
    "print(STU_ID[0])"
   ]
  },
  {
   "cell_type": "code",
   "execution_count": null,
   "id": "ca73f073",
   "metadata": {},
   "outputs": [],
   "source": [
    "print(STU_ID[3])"
   ]
  },
  {
   "cell_type": "markdown",
   "id": "35e0f57b",
   "metadata": {},
   "source": [
    "# VARIABLES UPDATE,DELETE AND APPENDING"
   ]
  },
  {
   "cell_type": "code",
   "execution_count": null,
   "id": "4cdfffaa",
   "metadata": {},
   "outputs": [],
   "source": [
    "NAME=['PRABHANSHU','VALENTINA','CHANDRAKANT','ABINASH','SRAVANI']\n",
    "\n",
    "NAME"
   ]
  },
  {
   "cell_type": "code",
   "execution_count": null,
   "id": "2f7030cb",
   "metadata": {},
   "outputs": [],
   "source": [
    "# UPDATING LIST\n",
    "NAME[2]='LISA'\n",
    "\n",
    "NAME"
   ]
  },
  {
   "cell_type": "code",
   "execution_count": null,
   "id": "8e7ae282",
   "metadata": {},
   "outputs": [],
   "source": [
    "# DELETING LIST\n",
    "del NAME[2]\n",
    "\n",
    "NAME"
   ]
  },
  {
   "cell_type": "code",
   "execution_count": null,
   "id": "859b4ff3",
   "metadata": {},
   "outputs": [],
   "source": [
    "NAME=['PRABHANSHU','VALENTINA','CHANDRAKANT','ABINASH','SRAVANI']\n",
    "AGE=[25,28,28,30,30]"
   ]
  },
  {
   "cell_type": "code",
   "execution_count": null,
   "id": "ae4fcb72",
   "metadata": {},
   "outputs": [],
   "source": [
    "NAME"
   ]
  },
  {
   "cell_type": "code",
   "execution_count": null,
   "id": "f427ed4a",
   "metadata": {},
   "outputs": [],
   "source": [
    "AGE"
   ]
  },
  {
   "cell_type": "code",
   "execution_count": null,
   "id": "15e66d78",
   "metadata": {
    "scrolled": true
   },
   "outputs": [],
   "source": [
    "# APPENDING LIST VALUES\n",
    "FULL_DETAILS=NAME+AGE\n",
    "FULL_DETAILS\n"
   ]
  },
  {
   "cell_type": "code",
   "execution_count": null,
   "id": "30f37e08",
   "metadata": {},
   "outputs": [],
   "source": [
    "# LIST CAN BE UPDATED,DELETED AND APPENED"
   ]
  },
  {
   "cell_type": "code",
   "execution_count": 50,
   "id": "7e827487",
   "metadata": {},
   "outputs": [
    {
     "data": {
      "text/plain": [
       "('PRABHANSHU', 'VALENTINA', 'CHANDRAKANT', 'ABINASH', 'SRAVANI')"
      ]
     },
     "execution_count": 50,
     "metadata": {},
     "output_type": "execute_result"
    }
   ],
   "source": [
    "NAME=('PRABHANSHU','VALENTINA','CHANDRAKANT','ABINASH','SRAVANI')\n",
    "\n",
    "NAME"
   ]
  },
  {
   "cell_type": "code",
   "execution_count": 51,
   "id": "0ba063a0",
   "metadata": {},
   "outputs": [
    {
     "data": {
      "text/plain": [
       "tuple"
      ]
     },
     "execution_count": 51,
     "metadata": {},
     "output_type": "execute_result"
    }
   ],
   "source": [
    "type(NAME)"
   ]
  },
  {
   "cell_type": "code",
   "execution_count": 52,
   "id": "8af7126d",
   "metadata": {},
   "outputs": [
    {
     "ename": "TypeError",
     "evalue": "'tuple' object does not support item assignment",
     "output_type": "error",
     "traceback": [
      "\u001b[1;31m---------------------------------------------------------------------------\u001b[0m",
      "\u001b[1;31mTypeError\u001b[0m                                 Traceback (most recent call last)",
      "\u001b[1;32m~\\AppData\\Local\\Temp/ipykernel_4752/2040212185.py\u001b[0m in \u001b[0;36m<module>\u001b[1;34m\u001b[0m\n\u001b[0;32m      1\u001b[0m \u001b[1;31m# UPDATING TUPLE IS NOT POSSIBLE\u001b[0m\u001b[1;33m\u001b[0m\u001b[1;33m\u001b[0m\u001b[0m\n\u001b[1;32m----> 2\u001b[1;33m \u001b[0mNAME\u001b[0m\u001b[1;33m[\u001b[0m\u001b[1;36m2\u001b[0m\u001b[1;33m]\u001b[0m\u001b[1;33m=\u001b[0m\u001b[1;34m'LISA'\u001b[0m\u001b[1;33m\u001b[0m\u001b[1;33m\u001b[0m\u001b[0m\n\u001b[0m\u001b[0;32m      3\u001b[0m \u001b[1;33m\u001b[0m\u001b[0m\n\u001b[0;32m      4\u001b[0m \u001b[0mNAME\u001b[0m\u001b[1;33m\u001b[0m\u001b[1;33m\u001b[0m\u001b[0m\n",
      "\u001b[1;31mTypeError\u001b[0m: 'tuple' object does not support item assignment"
     ]
    }
   ],
   "source": [
    "# UPDATING TUPLE IS NOT POSSIBLE\n",
    "NAME[2]='LISA'\n",
    "\n",
    "NAME"
   ]
  },
  {
   "cell_type": "code",
   "execution_count": 53,
   "id": "433228b1",
   "metadata": {},
   "outputs": [
    {
     "ename": "TypeError",
     "evalue": "'tuple' object doesn't support item deletion",
     "output_type": "error",
     "traceback": [
      "\u001b[1;31m---------------------------------------------------------------------------\u001b[0m",
      "\u001b[1;31mTypeError\u001b[0m                                 Traceback (most recent call last)",
      "\u001b[1;32m~\\AppData\\Local\\Temp/ipykernel_4752/751362851.py\u001b[0m in \u001b[0;36m<module>\u001b[1;34m\u001b[0m\n\u001b[0;32m      1\u001b[0m \u001b[1;31m# DELETING TUPLE IS NOT POSSIBLE\u001b[0m\u001b[1;33m\u001b[0m\u001b[1;33m\u001b[0m\u001b[0m\n\u001b[0;32m      2\u001b[0m \u001b[1;33m\u001b[0m\u001b[0m\n\u001b[1;32m----> 3\u001b[1;33m \u001b[1;32mdel\u001b[0m \u001b[0mNAME\u001b[0m\u001b[1;33m[\u001b[0m\u001b[1;36m2\u001b[0m\u001b[1;33m]\u001b[0m\u001b[1;33m\u001b[0m\u001b[1;33m\u001b[0m\u001b[0m\n\u001b[0m",
      "\u001b[1;31mTypeError\u001b[0m: 'tuple' object doesn't support item deletion"
     ]
    }
   ],
   "source": [
    "# DELETING TUPLE IS NOT POSSIBLE\n",
    "\n",
    "del NAME[2]"
   ]
  },
  {
   "cell_type": "code",
   "execution_count": 54,
   "id": "e651d02d",
   "metadata": {},
   "outputs": [],
   "source": [
    "NAME=('PRABHANSHU','VALENTINA','CHANDRAKANT','ABINASH','SRAVANI')\n",
    "AGE=(25,28,28,30,30)"
   ]
  },
  {
   "cell_type": "code",
   "execution_count": 55,
   "id": "85565573",
   "metadata": {},
   "outputs": [
    {
     "data": {
      "text/plain": [
       "('PRABHANSHU', 'VALENTINA', 'CHANDRAKANT', 'ABINASH', 'SRAVANI')"
      ]
     },
     "execution_count": 55,
     "metadata": {},
     "output_type": "execute_result"
    }
   ],
   "source": [
    "NAME"
   ]
  },
  {
   "cell_type": "code",
   "execution_count": 56,
   "id": "bf3b5af3",
   "metadata": {},
   "outputs": [
    {
     "data": {
      "text/plain": [
       "(25, 28, 28, 30, 30)"
      ]
     },
     "execution_count": 56,
     "metadata": {},
     "output_type": "execute_result"
    }
   ],
   "source": [
    "AGE"
   ]
  },
  {
   "cell_type": "code",
   "execution_count": 57,
   "id": "b49a4641",
   "metadata": {},
   "outputs": [
    {
     "data": {
      "text/plain": [
       "('PRABHANSHU',\n",
       " 'VALENTINA',\n",
       " 'CHANDRAKANT',\n",
       " 'ABINASH',\n",
       " 'SRAVANI',\n",
       " 25,\n",
       " 28,\n",
       " 28,\n",
       " 30,\n",
       " 30)"
      ]
     },
     "execution_count": 57,
     "metadata": {},
     "output_type": "execute_result"
    }
   ],
   "source": [
    "# APPENDING TUPLE VALUES\n",
    "FULL_DETAILS=NAME+AGE\n",
    "FULL_DETAILS"
   ]
  },
  {
   "cell_type": "code",
   "execution_count": null,
   "id": "7632b4f0",
   "metadata": {},
   "outputs": [],
   "source": [
    "# TUPLE CAN NOT BE UPDATED OR DELETED\n",
    "# TUPLE CAN BE APPENDED"
   ]
  },
  {
   "cell_type": "code",
   "execution_count": null,
   "id": "e872a6bc",
   "metadata": {},
   "outputs": [],
   "source": [
    "# CAN SET BE UPDATED DELETED AND APPNDED"
   ]
  },
  {
   "cell_type": "code",
   "execution_count": 58,
   "id": "7e808f44",
   "metadata": {},
   "outputs": [],
   "source": [
    "NAME={'PRABHANSHU','VALENTINA','CHANDRAKANT','ABINASH','SRAVANI'}"
   ]
  },
  {
   "cell_type": "code",
   "execution_count": 59,
   "id": "a44af14b",
   "metadata": {},
   "outputs": [
    {
     "ename": "TypeError",
     "evalue": "'set' object does not support item assignment",
     "output_type": "error",
     "traceback": [
      "\u001b[1;31m---------------------------------------------------------------------------\u001b[0m",
      "\u001b[1;31mTypeError\u001b[0m                                 Traceback (most recent call last)",
      "\u001b[1;32m~\\AppData\\Local\\Temp/ipykernel_4752/1401855578.py\u001b[0m in \u001b[0;36m<module>\u001b[1;34m\u001b[0m\n\u001b[1;32m----> 1\u001b[1;33m \u001b[0mNAME\u001b[0m\u001b[1;33m[\u001b[0m\u001b[1;36m2\u001b[0m\u001b[1;33m]\u001b[0m\u001b[1;33m=\u001b[0m\u001b[1;34m'LISA'\u001b[0m\u001b[1;33m\u001b[0m\u001b[1;33m\u001b[0m\u001b[0m\n\u001b[0m\u001b[0;32m      2\u001b[0m \u001b[1;33m\u001b[0m\u001b[0m\n\u001b[0;32m      3\u001b[0m \u001b[0mNAME\u001b[0m\u001b[1;33m\u001b[0m\u001b[1;33m\u001b[0m\u001b[0m\n",
      "\u001b[1;31mTypeError\u001b[0m: 'set' object does not support item assignment"
     ]
    }
   ],
   "source": [
    "NAME[2]='LISA'\n",
    "\n",
    "NAME"
   ]
  },
  {
   "cell_type": "code",
   "execution_count": 60,
   "id": "53cc5c09",
   "metadata": {},
   "outputs": [
    {
     "ename": "TypeError",
     "evalue": "'set' object doesn't support item deletion",
     "output_type": "error",
     "traceback": [
      "\u001b[1;31m---------------------------------------------------------------------------\u001b[0m",
      "\u001b[1;31mTypeError\u001b[0m                                 Traceback (most recent call last)",
      "\u001b[1;32m~\\AppData\\Local\\Temp/ipykernel_4752/53284309.py\u001b[0m in \u001b[0;36m<module>\u001b[1;34m\u001b[0m\n\u001b[1;32m----> 1\u001b[1;33m \u001b[1;32mdel\u001b[0m \u001b[0mNAME\u001b[0m\u001b[1;33m[\u001b[0m\u001b[1;36m2\u001b[0m\u001b[1;33m]\u001b[0m\u001b[1;33m\u001b[0m\u001b[1;33m\u001b[0m\u001b[0m\n\u001b[0m",
      "\u001b[1;31mTypeError\u001b[0m: 'set' object doesn't support item deletion"
     ]
    }
   ],
   "source": [
    "del NAME[2]"
   ]
  },
  {
   "cell_type": "code",
   "execution_count": 61,
   "id": "b25cc415",
   "metadata": {},
   "outputs": [],
   "source": [
    "NAME={'PRABHANSHU','VALENTINA','CHANDRAKANT','ABINASH','SRAVANI'}\n",
    "AGE={25,28,28,30,30}"
   ]
  },
  {
   "cell_type": "code",
   "execution_count": 62,
   "id": "97b2dd2b",
   "metadata": {},
   "outputs": [
    {
     "ename": "TypeError",
     "evalue": "unsupported operand type(s) for +: 'set' and 'set'",
     "output_type": "error",
     "traceback": [
      "\u001b[1;31m---------------------------------------------------------------------------\u001b[0m",
      "\u001b[1;31mTypeError\u001b[0m                                 Traceback (most recent call last)",
      "\u001b[1;32m~\\AppData\\Local\\Temp/ipykernel_4752/2116370247.py\u001b[0m in \u001b[0;36m<module>\u001b[1;34m\u001b[0m\n\u001b[1;32m----> 1\u001b[1;33m \u001b[0mFULL_DETAILS\u001b[0m\u001b[1;33m=\u001b[0m\u001b[0mNAME\u001b[0m\u001b[1;33m+\u001b[0m\u001b[0mAGE\u001b[0m\u001b[1;33m\u001b[0m\u001b[1;33m\u001b[0m\u001b[0m\n\u001b[0m\u001b[0;32m      2\u001b[0m \u001b[0mFULL_DETAILS\u001b[0m\u001b[1;33m\u001b[0m\u001b[1;33m\u001b[0m\u001b[0m\n",
      "\u001b[1;31mTypeError\u001b[0m: unsupported operand type(s) for +: 'set' and 'set'"
     ]
    }
   ],
   "source": [
    "FULL_DETAILS=NAME+AGE\n",
    "FULL_DETAILS"
   ]
  },
  {
   "cell_type": "code",
   "execution_count": null,
   "id": "35c256b4",
   "metadata": {},
   "outputs": [],
   "source": [
    "# SET CAN NOT BE UPDATED,DELETED AND APPENDED"
   ]
  },
  {
   "cell_type": "code",
   "execution_count": 63,
   "id": "44d33c5f",
   "metadata": {},
   "outputs": [
    {
     "data": {
      "text/plain": [
       "{'SATISH': 'BTECH', 'MENAKA': 'MCA', 'PRABHAKAR': 'BE', 'KOMAL': 'BSC'}"
      ]
     },
     "execution_count": 63,
     "metadata": {},
     "output_type": "execute_result"
    }
   ],
   "source": [
    "# CAN DICTIONARY BE APPENDED, DELETED AND UPDATED\n",
    "STU_DETAILS={'SATISH':'BTECH','MENAKA':'MCA','PRABHAKAR':'BE','KOMAL':'BSC'}\n",
    "STU_DETAILS"
   ]
  },
  {
   "cell_type": "code",
   "execution_count": 64,
   "id": "c95fbf82",
   "metadata": {},
   "outputs": [
    {
     "data": {
      "text/plain": [
       "dict"
      ]
     },
     "execution_count": 64,
     "metadata": {},
     "output_type": "execute_result"
    }
   ],
   "source": [
    "type(STU_DETAILS)"
   ]
  },
  {
   "cell_type": "code",
   "execution_count": 65,
   "id": "6dd64d92",
   "metadata": {
    "scrolled": true
   },
   "outputs": [
    {
     "ename": "KeyError",
     "evalue": "0",
     "output_type": "error",
     "traceback": [
      "\u001b[1;31m---------------------------------------------------------------------------\u001b[0m",
      "\u001b[1;31mKeyError\u001b[0m                                  Traceback (most recent call last)",
      "\u001b[1;32m~\\AppData\\Local\\Temp/ipykernel_4752/3221971791.py\u001b[0m in \u001b[0;36m<module>\u001b[1;34m\u001b[0m\n\u001b[1;32m----> 1\u001b[1;33m \u001b[0mSTU_DETAILS\u001b[0m\u001b[1;33m[\u001b[0m\u001b[1;36m0\u001b[0m\u001b[1;33m]\u001b[0m\u001b[1;33m\u001b[0m\u001b[1;33m\u001b[0m\u001b[0m\n\u001b[0m",
      "\u001b[1;31mKeyError\u001b[0m: 0"
     ]
    }
   ],
   "source": [
    "STU_DETAILS[0]"
   ]
  },
  {
   "cell_type": "code",
   "execution_count": 66,
   "id": "4fe02902",
   "metadata": {
    "scrolled": true
   },
   "outputs": [
    {
     "ename": "KeyError",
     "evalue": "1",
     "output_type": "error",
     "traceback": [
      "\u001b[1;31m---------------------------------------------------------------------------\u001b[0m",
      "\u001b[1;31mKeyError\u001b[0m                                  Traceback (most recent call last)",
      "\u001b[1;32m~\\AppData\\Local\\Temp/ipykernel_4752/1589537689.py\u001b[0m in \u001b[0;36m<module>\u001b[1;34m\u001b[0m\n\u001b[1;32m----> 1\u001b[1;33m \u001b[0mSTU_DETAILS\u001b[0m\u001b[1;33m[\u001b[0m\u001b[1;36m1\u001b[0m\u001b[1;33m]\u001b[0m\u001b[1;33m\u001b[0m\u001b[1;33m\u001b[0m\u001b[0m\n\u001b[0m",
      "\u001b[1;31mKeyError\u001b[0m: 1"
     ]
    }
   ],
   "source": [
    "STU_DETAILS[1]"
   ]
  },
  {
   "cell_type": "code",
   "execution_count": 67,
   "id": "259dd859",
   "metadata": {},
   "outputs": [
    {
     "data": {
      "text/plain": [
       "'BTECH'"
      ]
     },
     "execution_count": 67,
     "metadata": {},
     "output_type": "execute_result"
    }
   ],
   "source": [
    "STU_DETAILS['SATISH']"
   ]
  },
  {
   "cell_type": "code",
   "execution_count": null,
   "id": "efa138c8",
   "metadata": {},
   "outputs": [],
   "source": [
    "# IN THE  DISCTIONARY WE HAVE 2 OBJECTS\n",
    "# 1. KEYS\n",
    "# 2. VALUES"
   ]
  },
  {
   "cell_type": "code",
   "execution_count": 68,
   "id": "6ab832a4",
   "metadata": {},
   "outputs": [
    {
     "data": {
      "text/plain": [
       "dict_keys(['SATISH', 'MENAKA', 'PRABHAKAR', 'KOMAL'])"
      ]
     },
     "execution_count": 68,
     "metadata": {},
     "output_type": "execute_result"
    }
   ],
   "source": [
    "STU_DETAILS.keys()"
   ]
  },
  {
   "cell_type": "code",
   "execution_count": 70,
   "id": "e39a5f2f",
   "metadata": {},
   "outputs": [
    {
     "data": {
      "text/plain": [
       "dict_values(['BTECH', 'MCA', 'BE', 'BSC'])"
      ]
     },
     "execution_count": 70,
     "metadata": {},
     "output_type": "execute_result"
    }
   ],
   "source": [
    "STU_DETAILS.values()"
   ]
  },
  {
   "cell_type": "code",
   "execution_count": 71,
   "id": "c4df3c19",
   "metadata": {},
   "outputs": [
    {
     "data": {
      "text/plain": [
       "{'SATISH': 'MBA', 'MENAKA': 'MCA', 'PRABHAKAR': 'BE', 'KOMAL': 'BSC'}"
      ]
     },
     "execution_count": 71,
     "metadata": {},
     "output_type": "execute_result"
    }
   ],
   "source": [
    "# UPDATING DICTIONARY\n",
    "STU_DETAILS['SATISH']='MBA'\n",
    "STU_DETAILS"
   ]
  },
  {
   "cell_type": "code",
   "execution_count": null,
   "id": "7ddca3b6",
   "metadata": {},
   "outputs": [],
   "source": [
    "STU_DETAILS['SATISH']"
   ]
  },
  {
   "cell_type": "code",
   "execution_count": 72,
   "id": "08534ec4",
   "metadata": {},
   "outputs": [
    {
     "data": {
      "text/plain": [
       "{'MENAKA': 'MCA', 'PRABHAKAR': 'BE', 'KOMAL': 'BSC'}"
      ]
     },
     "execution_count": 72,
     "metadata": {},
     "output_type": "execute_result"
    }
   ],
   "source": [
    "# DELETING DICTIONARY\n",
    "\n",
    "del STU_DETAILS['SATISH']\n",
    "STU_DETAILS"
   ]
  },
  {
   "cell_type": "code",
   "execution_count": 73,
   "id": "98bc135d",
   "metadata": {},
   "outputs": [
    {
     "data": {
      "text/plain": [
       "{'SATISH': 'BTECH', 'MENAKA': 'MCA', 'PRABHAKAR': 'BE', 'KOMAL': 'BSC'}"
      ]
     },
     "execution_count": 73,
     "metadata": {},
     "output_type": "execute_result"
    }
   ],
   "source": [
    "# CAN DICTIONARY BE APPENDED\n",
    "\n",
    "STU_EDUCATION={'SATISH':'BTECH','MENAKA':'MCA','PRABHAKAR':'BE','KOMAL':'BSC'}\n",
    "STU_AGE={'SATISH':23,'MENAKA':34,'PRABHAKAR':35,'KOMAL':27}\n",
    "\n",
    "STU_EDUCATION"
   ]
  },
  {
   "cell_type": "code",
   "execution_count": 74,
   "id": "ce00b457",
   "metadata": {},
   "outputs": [
    {
     "data": {
      "text/plain": [
       "{'SATISH': 23, 'MENAKA': 34, 'PRABHAKAR': 35, 'KOMAL': 27}"
      ]
     },
     "execution_count": 74,
     "metadata": {},
     "output_type": "execute_result"
    }
   ],
   "source": [
    "STU_AGE"
   ]
  },
  {
   "cell_type": "code",
   "execution_count": null,
   "id": "77f5db5a",
   "metadata": {},
   "outputs": [],
   "source": [
    "# WE CAN NOT APPEND TEH DICTIONARY DIRECTLY"
   ]
  },
  {
   "cell_type": "markdown",
   "id": "93cb4777",
   "metadata": {},
   "source": [
    "# HOW TO CREATE TEMPORARY TABLE IN PYTHON"
   ]
  },
  {
   "cell_type": "code",
   "execution_count": 75,
   "id": "25b382de",
   "metadata": {},
   "outputs": [
    {
     "data": {
      "text/html": [
       "<div>\n",
       "<style scoped>\n",
       "    .dataframe tbody tr th:only-of-type {\n",
       "        vertical-align: middle;\n",
       "    }\n",
       "\n",
       "    .dataframe tbody tr th {\n",
       "        vertical-align: top;\n",
       "    }\n",
       "\n",
       "    .dataframe thead th {\n",
       "        text-align: right;\n",
       "    }\n",
       "</style>\n",
       "<table border=\"1\" class=\"dataframe\">\n",
       "  <thead>\n",
       "    <tr style=\"text-align: right;\">\n",
       "      <th></th>\n",
       "      <th>EMP_NAME</th>\n",
       "      <th>AGE</th>\n",
       "      <th>EXPERIENCE</th>\n",
       "      <th>EDUCATION</th>\n",
       "      <th>DOJ</th>\n",
       "      <th>SALARY</th>\n",
       "    </tr>\n",
       "  </thead>\n",
       "  <tbody>\n",
       "    <tr>\n",
       "      <th>0</th>\n",
       "      <td>PRABHANSHU</td>\n",
       "      <td>25</td>\n",
       "      <td>2</td>\n",
       "      <td>BTECH</td>\n",
       "      <td>01/23/2019</td>\n",
       "      <td>70000</td>\n",
       "    </tr>\n",
       "    <tr>\n",
       "      <th>1</th>\n",
       "      <td>VALENTINA</td>\n",
       "      <td>28</td>\n",
       "      <td>5</td>\n",
       "      <td>BCA</td>\n",
       "      <td>02/18/2020</td>\n",
       "      <td>90000</td>\n",
       "    </tr>\n",
       "    <tr>\n",
       "      <th>2</th>\n",
       "      <td>CHANDRAKANT</td>\n",
       "      <td>28</td>\n",
       "      <td>5</td>\n",
       "      <td>BCOM</td>\n",
       "      <td>01/23/2020</td>\n",
       "      <td>120000</td>\n",
       "    </tr>\n",
       "    <tr>\n",
       "      <th>3</th>\n",
       "      <td>ABINASH</td>\n",
       "      <td>30</td>\n",
       "      <td>7</td>\n",
       "      <td>BTECH</td>\n",
       "      <td>05/20/2019</td>\n",
       "      <td>132000</td>\n",
       "    </tr>\n",
       "    <tr>\n",
       "      <th>4</th>\n",
       "      <td>SRAVANI</td>\n",
       "      <td>30</td>\n",
       "      <td>6</td>\n",
       "      <td>MTECH</td>\n",
       "      <td>01/23/2021</td>\n",
       "      <td>1450000</td>\n",
       "    </tr>\n",
       "  </tbody>\n",
       "</table>\n",
       "</div>"
      ],
      "text/plain": [
       "      EMP_NAME  AGE  EXPERIENCE EDUCATION         DOJ   SALARY\n",
       "0   PRABHANSHU   25           2     BTECH  01/23/2019    70000\n",
       "1    VALENTINA   28           5       BCA  02/18/2020    90000\n",
       "2  CHANDRAKANT   28           5      BCOM  01/23/2020   120000\n",
       "3      ABINASH   30           7     BTECH  05/20/2019   132000\n",
       "4      SRAVANI   30           6     MTECH  01/23/2021  1450000"
      ]
     },
     "execution_count": 75,
     "metadata": {},
     "output_type": "execute_result"
    }
   ],
   "source": [
    "# TO CRAETE A TABLE IN PYTHON PROFRAMMING\n",
    "\n",
    "import pandas as pd\n",
    "\n",
    "EMPLOYEE_MASTER=pd.DataFrame({'EMP_NAME':['PRABHANSHU','VALENTINA','CHANDRAKANT','ABINASH','SRAVANI'],\n",
    "                              'AGE':[25,28,28,30,30],\n",
    "                              'EXPERIENCE':[2,5,5,7,6],\n",
    "                              'EDUCATION':['BTECH','BCA','BCOM','BTECH','MTECH'],\n",
    "                              'DOJ':['01/23/2019','02/18/2020','01/23/2020','05/20/2019','01/23/2021'],\n",
    "                              'SALARY':[70000,90000,120000,132000,1450000]})\n",
    "EMPLOYEE_MASTER"
   ]
  },
  {
   "cell_type": "code",
   "execution_count": 76,
   "id": "70b859aa",
   "metadata": {},
   "outputs": [
    {
     "name": "stdout",
     "output_type": "stream",
     "text": [
      "      EMP_NAME  AGE  EXPERIENCE EDUCATION         DOJ   SALARY\n",
      "0   PRABHANSHU   25           2     BTECH  01/23/2019    70000\n",
      "1    VALENTINA   28           5       BCA  02/18/2020    90000\n",
      "2  CHANDRAKANT   28           5      BCOM  01/23/2020   120000\n",
      "3      ABINASH   30           7     BTECH  05/20/2019   132000\n",
      "4      SRAVANI   30           6     MTECH  01/23/2021  1450000\n"
     ]
    }
   ],
   "source": [
    "print(EMPLOYEE_MASTER)"
   ]
  },
  {
   "cell_type": "markdown",
   "id": "6d4d83b9",
   "metadata": {},
   "source": [
    "# HOW TO READ A TABLE PART-1"
   ]
  },
  {
   "cell_type": "code",
   "execution_count": 77,
   "id": "fbd77c60",
   "metadata": {},
   "outputs": [
    {
     "data": {
      "text/plain": [
       "(5, 6)"
      ]
     },
     "execution_count": 77,
     "metadata": {},
     "output_type": "execute_result"
    }
   ],
   "source": [
    "EMPLOYEE_MASTER.shape"
   ]
  },
  {
   "cell_type": "code",
   "execution_count": 78,
   "id": "f1d494f6",
   "metadata": {},
   "outputs": [
    {
     "data": {
      "text/plain": [
       "array(['EMP_NAME', 'AGE', 'EXPERIENCE', 'EDUCATION', 'DOJ', 'SALARY'],\n",
       "      dtype=object)"
      ]
     },
     "execution_count": 78,
     "metadata": {},
     "output_type": "execute_result"
    }
   ],
   "source": [
    "EMPLOYEE_MASTER.columns.values"
   ]
  },
  {
   "cell_type": "code",
   "execution_count": 79,
   "id": "34cb4dff",
   "metadata": {},
   "outputs": [
    {
     "data": {
      "text/html": [
       "<div>\n",
       "<style scoped>\n",
       "    .dataframe tbody tr th:only-of-type {\n",
       "        vertical-align: middle;\n",
       "    }\n",
       "\n",
       "    .dataframe tbody tr th {\n",
       "        vertical-align: top;\n",
       "    }\n",
       "\n",
       "    .dataframe thead th {\n",
       "        text-align: right;\n",
       "    }\n",
       "</style>\n",
       "<table border=\"1\" class=\"dataframe\">\n",
       "  <thead>\n",
       "    <tr style=\"text-align: right;\">\n",
       "      <th></th>\n",
       "      <th>EMP_NAME</th>\n",
       "      <th>AGE</th>\n",
       "      <th>EXPERIENCE</th>\n",
       "      <th>EDUCATION</th>\n",
       "      <th>DOJ</th>\n",
       "      <th>SALARY</th>\n",
       "    </tr>\n",
       "  </thead>\n",
       "  <tbody>\n",
       "    <tr>\n",
       "      <th>0</th>\n",
       "      <td>PRABHANSHU</td>\n",
       "      <td>25</td>\n",
       "      <td>2</td>\n",
       "      <td>BTECH</td>\n",
       "      <td>01/23/2019</td>\n",
       "      <td>70000</td>\n",
       "    </tr>\n",
       "    <tr>\n",
       "      <th>1</th>\n",
       "      <td>VALENTINA</td>\n",
       "      <td>28</td>\n",
       "      <td>5</td>\n",
       "      <td>BCA</td>\n",
       "      <td>02/18/2020</td>\n",
       "      <td>90000</td>\n",
       "    </tr>\n",
       "  </tbody>\n",
       "</table>\n",
       "</div>"
      ],
      "text/plain": [
       "     EMP_NAME  AGE  EXPERIENCE EDUCATION         DOJ  SALARY\n",
       "0  PRABHANSHU   25           2     BTECH  01/23/2019   70000\n",
       "1   VALENTINA   28           5       BCA  02/18/2020   90000"
      ]
     },
     "execution_count": 79,
     "metadata": {},
     "output_type": "execute_result"
    }
   ],
   "source": [
    "EMPLOYEE_MASTER.head(2)"
   ]
  },
  {
   "cell_type": "code",
   "execution_count": 80,
   "id": "9827283a",
   "metadata": {},
   "outputs": [
    {
     "data": {
      "text/html": [
       "<div>\n",
       "<style scoped>\n",
       "    .dataframe tbody tr th:only-of-type {\n",
       "        vertical-align: middle;\n",
       "    }\n",
       "\n",
       "    .dataframe tbody tr th {\n",
       "        vertical-align: top;\n",
       "    }\n",
       "\n",
       "    .dataframe thead th {\n",
       "        text-align: right;\n",
       "    }\n",
       "</style>\n",
       "<table border=\"1\" class=\"dataframe\">\n",
       "  <thead>\n",
       "    <tr style=\"text-align: right;\">\n",
       "      <th></th>\n",
       "      <th>EMP_NAME</th>\n",
       "      <th>AGE</th>\n",
       "      <th>EXPERIENCE</th>\n",
       "      <th>EDUCATION</th>\n",
       "      <th>DOJ</th>\n",
       "      <th>SALARY</th>\n",
       "    </tr>\n",
       "  </thead>\n",
       "  <tbody>\n",
       "    <tr>\n",
       "      <th>3</th>\n",
       "      <td>ABINASH</td>\n",
       "      <td>30</td>\n",
       "      <td>7</td>\n",
       "      <td>BTECH</td>\n",
       "      <td>05/20/2019</td>\n",
       "      <td>132000</td>\n",
       "    </tr>\n",
       "    <tr>\n",
       "      <th>4</th>\n",
       "      <td>SRAVANI</td>\n",
       "      <td>30</td>\n",
       "      <td>6</td>\n",
       "      <td>MTECH</td>\n",
       "      <td>01/23/2021</td>\n",
       "      <td>1450000</td>\n",
       "    </tr>\n",
       "  </tbody>\n",
       "</table>\n",
       "</div>"
      ],
      "text/plain": [
       "  EMP_NAME  AGE  EXPERIENCE EDUCATION         DOJ   SALARY\n",
       "3  ABINASH   30           7     BTECH  05/20/2019   132000\n",
       "4  SRAVANI   30           6     MTECH  01/23/2021  1450000"
      ]
     },
     "execution_count": 80,
     "metadata": {},
     "output_type": "execute_result"
    }
   ],
   "source": [
    "EMPLOYEE_MASTER.tail(2)"
   ]
  },
  {
   "cell_type": "code",
   "execution_count": 81,
   "id": "79ce09b1",
   "metadata": {},
   "outputs": [
    {
     "data": {
      "text/html": [
       "<div>\n",
       "<style scoped>\n",
       "    .dataframe tbody tr th:only-of-type {\n",
       "        vertical-align: middle;\n",
       "    }\n",
       "\n",
       "    .dataframe tbody tr th {\n",
       "        vertical-align: top;\n",
       "    }\n",
       "\n",
       "    .dataframe thead th {\n",
       "        text-align: right;\n",
       "    }\n",
       "</style>\n",
       "<table border=\"1\" class=\"dataframe\">\n",
       "  <thead>\n",
       "    <tr style=\"text-align: right;\">\n",
       "      <th></th>\n",
       "      <th>AGE</th>\n",
       "      <th>EXPERIENCE</th>\n",
       "      <th>SALARY</th>\n",
       "    </tr>\n",
       "  </thead>\n",
       "  <tbody>\n",
       "    <tr>\n",
       "      <th>count</th>\n",
       "      <td>5.00000</td>\n",
       "      <td>5.000000</td>\n",
       "      <td>5.000000e+00</td>\n",
       "    </tr>\n",
       "    <tr>\n",
       "      <th>mean</th>\n",
       "      <td>28.20000</td>\n",
       "      <td>5.000000</td>\n",
       "      <td>3.724000e+05</td>\n",
       "    </tr>\n",
       "    <tr>\n",
       "      <th>std</th>\n",
       "      <td>2.04939</td>\n",
       "      <td>1.870829</td>\n",
       "      <td>6.028920e+05</td>\n",
       "    </tr>\n",
       "    <tr>\n",
       "      <th>min</th>\n",
       "      <td>25.00000</td>\n",
       "      <td>2.000000</td>\n",
       "      <td>7.000000e+04</td>\n",
       "    </tr>\n",
       "    <tr>\n",
       "      <th>25%</th>\n",
       "      <td>28.00000</td>\n",
       "      <td>5.000000</td>\n",
       "      <td>9.000000e+04</td>\n",
       "    </tr>\n",
       "    <tr>\n",
       "      <th>50%</th>\n",
       "      <td>28.00000</td>\n",
       "      <td>5.000000</td>\n",
       "      <td>1.200000e+05</td>\n",
       "    </tr>\n",
       "    <tr>\n",
       "      <th>75%</th>\n",
       "      <td>30.00000</td>\n",
       "      <td>6.000000</td>\n",
       "      <td>1.320000e+05</td>\n",
       "    </tr>\n",
       "    <tr>\n",
       "      <th>max</th>\n",
       "      <td>30.00000</td>\n",
       "      <td>7.000000</td>\n",
       "      <td>1.450000e+06</td>\n",
       "    </tr>\n",
       "  </tbody>\n",
       "</table>\n",
       "</div>"
      ],
      "text/plain": [
       "            AGE  EXPERIENCE        SALARY\n",
       "count   5.00000    5.000000  5.000000e+00\n",
       "mean   28.20000    5.000000  3.724000e+05\n",
       "std     2.04939    1.870829  6.028920e+05\n",
       "min    25.00000    2.000000  7.000000e+04\n",
       "25%    28.00000    5.000000  9.000000e+04\n",
       "50%    28.00000    5.000000  1.200000e+05\n",
       "75%    30.00000    6.000000  1.320000e+05\n",
       "max    30.00000    7.000000  1.450000e+06"
      ]
     },
     "execution_count": 81,
     "metadata": {},
     "output_type": "execute_result"
    }
   ],
   "source": [
    "EMPLOYEE_MASTER.describe()"
   ]
  },
  {
   "cell_type": "code",
   "execution_count": 82,
   "id": "3895e6a1",
   "metadata": {},
   "outputs": [
    {
     "data": {
      "text/plain": [
       "EMP_NAME      object\n",
       "AGE            int64\n",
       "EXPERIENCE     int64\n",
       "EDUCATION     object\n",
       "DOJ           object\n",
       "SALARY         int64\n",
       "dtype: object"
      ]
     },
     "execution_count": 82,
     "metadata": {},
     "output_type": "execute_result"
    }
   ],
   "source": [
    "EMPLOYEE_MASTER.dtypes"
   ]
  },
  {
   "cell_type": "markdown",
   "id": "e9d45ac8",
   "metadata": {},
   "source": [
    "# HOW TO CREATE A TABLE BY INSERTING VALUES INTO THE TABLE"
   ]
  },
  {
   "cell_type": "code",
   "execution_count": 83,
   "id": "4dbfcf99",
   "metadata": {},
   "outputs": [
    {
     "data": {
      "text/plain": [
       "['STU_ID', 'STU_NAME', 'AGE', 'GENDER', 'EDUCATION', 'YOE', 'DOE', 'COURSE']"
      ]
     },
     "execution_count": 83,
     "metadata": {},
     "output_type": "execute_result"
    }
   ],
   "source": [
    "import pandas as pd\n",
    "\n",
    "STU_ALL_ENQ=['STU_ID','STU_NAME','AGE','GENDER','EDUCATION','YOE','DOE','COURSE']\n",
    "STU_ALL_ENQ"
   ]
  },
  {
   "cell_type": "code",
   "execution_count": 84,
   "id": "deb3c7cc",
   "metadata": {},
   "outputs": [
    {
     "data": {
      "text/html": [
       "<div>\n",
       "<style scoped>\n",
       "    .dataframe tbody tr th:only-of-type {\n",
       "        vertical-align: middle;\n",
       "    }\n",
       "\n",
       "    .dataframe tbody tr th {\n",
       "        vertical-align: top;\n",
       "    }\n",
       "\n",
       "    .dataframe thead th {\n",
       "        text-align: right;\n",
       "    }\n",
       "</style>\n",
       "<table border=\"1\" class=\"dataframe\">\n",
       "  <thead>\n",
       "    <tr style=\"text-align: right;\">\n",
       "      <th></th>\n",
       "      <th>STU_ID</th>\n",
       "      <th>STU_NAME</th>\n",
       "      <th>AGE</th>\n",
       "      <th>GENDER</th>\n",
       "      <th>EDUCATION</th>\n",
       "      <th>YOE</th>\n",
       "      <th>DOE</th>\n",
       "      <th>COURSE</th>\n",
       "    </tr>\n",
       "  </thead>\n",
       "  <tbody>\n",
       "  </tbody>\n",
       "</table>\n",
       "</div>"
      ],
      "text/plain": [
       "Empty DataFrame\n",
       "Columns: [STU_ID, STU_NAME, AGE, GENDER, EDUCATION, YOE, DOE, COURSE]\n",
       "Index: []"
      ]
     },
     "execution_count": 84,
     "metadata": {},
     "output_type": "execute_result"
    }
   ],
   "source": [
    "STU_ALL_ENQ_FULL=pd.DataFrame(columns=STU_ALL_ENQ)\n",
    "STU_ALL_ENQ_FULL"
   ]
  },
  {
   "cell_type": "code",
   "execution_count": 85,
   "id": "1afa9ffc",
   "metadata": {},
   "outputs": [
    {
     "data": {
      "text/html": [
       "<div>\n",
       "<style scoped>\n",
       "    .dataframe tbody tr th:only-of-type {\n",
       "        vertical-align: middle;\n",
       "    }\n",
       "\n",
       "    .dataframe tbody tr th {\n",
       "        vertical-align: top;\n",
       "    }\n",
       "\n",
       "    .dataframe thead th {\n",
       "        text-align: right;\n",
       "    }\n",
       "</style>\n",
       "<table border=\"1\" class=\"dataframe\">\n",
       "  <thead>\n",
       "    <tr style=\"text-align: right;\">\n",
       "      <th></th>\n",
       "      <th>STU_ID</th>\n",
       "      <th>STU_NAME</th>\n",
       "      <th>AGE</th>\n",
       "      <th>GENDER</th>\n",
       "      <th>EDUCATION</th>\n",
       "      <th>YOE</th>\n",
       "      <th>DOE</th>\n",
       "      <th>COURSE</th>\n",
       "    </tr>\n",
       "  </thead>\n",
       "  <tbody>\n",
       "    <tr>\n",
       "      <th>0</th>\n",
       "      <td>S1</td>\n",
       "      <td>NARENDRA</td>\n",
       "      <td>33</td>\n",
       "      <td>MALE</td>\n",
       "      <td>BTECH</td>\n",
       "      <td>4</td>\n",
       "      <td>01-01-2020</td>\n",
       "      <td>DATA SCIENCE</td>\n",
       "    </tr>\n",
       "    <tr>\n",
       "      <th>1</th>\n",
       "      <td>S2</td>\n",
       "      <td>CHHABA</td>\n",
       "      <td>24</td>\n",
       "      <td>MALE</td>\n",
       "      <td>BTECH</td>\n",
       "      <td>2</td>\n",
       "      <td>02-01-2020</td>\n",
       "      <td>DATA SCIENCE</td>\n",
       "    </tr>\n",
       "    <tr>\n",
       "      <th>2</th>\n",
       "      <td>S3</td>\n",
       "      <td>NARI</td>\n",
       "      <td>27</td>\n",
       "      <td>FEMALE</td>\n",
       "      <td>BTECH</td>\n",
       "      <td>6</td>\n",
       "      <td>04-01-2020</td>\n",
       "      <td>DATA ANALYTICS</td>\n",
       "    </tr>\n",
       "    <tr>\n",
       "      <th>3</th>\n",
       "      <td>S4</td>\n",
       "      <td>PAPPU</td>\n",
       "      <td>32</td>\n",
       "      <td>MALE</td>\n",
       "      <td>BTECH</td>\n",
       "      <td>4</td>\n",
       "      <td>07-01-2020</td>\n",
       "      <td>DATA SCIENCE</td>\n",
       "    </tr>\n",
       "    <tr>\n",
       "      <th>4</th>\n",
       "      <td>S5</td>\n",
       "      <td>PRACHI</td>\n",
       "      <td>30</td>\n",
       "      <td>FEMALE</td>\n",
       "      <td>BTECH</td>\n",
       "      <td>4</td>\n",
       "      <td>07-03-2020</td>\n",
       "      <td>DATA SCIENCE</td>\n",
       "    </tr>\n",
       "  </tbody>\n",
       "</table>\n",
       "</div>"
      ],
      "text/plain": [
       "  STU_ID  STU_NAME AGE  GENDER EDUCATION YOE         DOE          COURSE\n",
       "0     S1  NARENDRA  33    MALE     BTECH   4  01-01-2020    DATA SCIENCE\n",
       "1     S2    CHHABA  24    MALE     BTECH   2  02-01-2020    DATA SCIENCE\n",
       "2     S3      NARI  27  FEMALE     BTECH   6  04-01-2020  DATA ANALYTICS\n",
       "3     S4     PAPPU  32    MALE     BTECH   4  07-01-2020    DATA SCIENCE\n",
       "4     S5    PRACHI  30  FEMALE     BTECH   4  07-03-2020    DATA SCIENCE"
      ]
     },
     "execution_count": 85,
     "metadata": {},
     "output_type": "execute_result"
    }
   ],
   "source": [
    "LIST_OF_VALUES=[pd.Series(['S1','NARENDRA',33,'MALE','BTECH',4,'01-01-2020','DATA SCIENCE'],index=STU_ALL_ENQ_FULL.columns),\n",
    "                 pd.Series(['S2','CHHABA',24,'MALE','BTECH',2,'02-01-2020','DATA SCIENCE'],index=STU_ALL_ENQ_FULL.columns),\n",
    "                 pd.Series(['S3','NARI',27,'FEMALE','BTECH',6,'04-01-2020','DATA ANALYTICS'],index=STU_ALL_ENQ_FULL.columns),\n",
    "                  pd.Series(['S4','PAPPU',32,'MALE','BTECH',4,'07-01-2020','DATA SCIENCE'],index=STU_ALL_ENQ_FULL.columns),\n",
    "                  pd.Series(['S5','PRACHI',30,'FEMALE','BTECH',4,'07-03-2020','DATA SCIENCE'],index=STU_ALL_ENQ_FULL.columns)]\n",
    "STU_ALL_ENQ_FULL = STU_ALL_ENQ_FULL.append(LIST_OF_VALUES, ignore_index=False)\n",
    "\n",
    "STU_ALL_ENQ_FULL"
   ]
  },
  {
   "cell_type": "markdown",
   "id": "dbad3923",
   "metadata": {},
   "source": [
    "# HOW TO READ A TABLE PART-2"
   ]
  },
  {
   "cell_type": "code",
   "execution_count": 86,
   "id": "d608a162",
   "metadata": {},
   "outputs": [
    {
     "data": {
      "text/plain": [
       "(5, 8)"
      ]
     },
     "execution_count": 86,
     "metadata": {},
     "output_type": "execute_result"
    }
   ],
   "source": [
    "STU_ALL_ENQ_FULL.shape"
   ]
  },
  {
   "cell_type": "code",
   "execution_count": 87,
   "id": "8b45ace0",
   "metadata": {},
   "outputs": [
    {
     "data": {
      "text/plain": [
       "STU_ID       object\n",
       "STU_NAME     object\n",
       "AGE          object\n",
       "GENDER       object\n",
       "EDUCATION    object\n",
       "YOE          object\n",
       "DOE          object\n",
       "COURSE       object\n",
       "dtype: object"
      ]
     },
     "execution_count": 87,
     "metadata": {},
     "output_type": "execute_result"
    }
   ],
   "source": [
    "STU_ALL_ENQ_FULL.dtypes"
   ]
  },
  {
   "cell_type": "code",
   "execution_count": 88,
   "id": "91de58d2",
   "metadata": {},
   "outputs": [
    {
     "data": {
      "text/html": [
       "<div>\n",
       "<style scoped>\n",
       "    .dataframe tbody tr th:only-of-type {\n",
       "        vertical-align: middle;\n",
       "    }\n",
       "\n",
       "    .dataframe tbody tr th {\n",
       "        vertical-align: top;\n",
       "    }\n",
       "\n",
       "    .dataframe thead th {\n",
       "        text-align: right;\n",
       "    }\n",
       "</style>\n",
       "<table border=\"1\" class=\"dataframe\">\n",
       "  <thead>\n",
       "    <tr style=\"text-align: right;\">\n",
       "      <th></th>\n",
       "      <th>STU_ID</th>\n",
       "      <th>STU_NAME</th>\n",
       "      <th>AGE</th>\n",
       "      <th>GENDER</th>\n",
       "      <th>EDUCATION</th>\n",
       "      <th>YOE</th>\n",
       "      <th>DOE</th>\n",
       "      <th>COURSE</th>\n",
       "    </tr>\n",
       "  </thead>\n",
       "  <tbody>\n",
       "    <tr>\n",
       "      <th>count</th>\n",
       "      <td>5</td>\n",
       "      <td>5</td>\n",
       "      <td>5</td>\n",
       "      <td>5</td>\n",
       "      <td>5</td>\n",
       "      <td>5</td>\n",
       "      <td>5</td>\n",
       "      <td>5</td>\n",
       "    </tr>\n",
       "    <tr>\n",
       "      <th>unique</th>\n",
       "      <td>5</td>\n",
       "      <td>5</td>\n",
       "      <td>5</td>\n",
       "      <td>2</td>\n",
       "      <td>1</td>\n",
       "      <td>3</td>\n",
       "      <td>5</td>\n",
       "      <td>2</td>\n",
       "    </tr>\n",
       "    <tr>\n",
       "      <th>top</th>\n",
       "      <td>S1</td>\n",
       "      <td>NARENDRA</td>\n",
       "      <td>33</td>\n",
       "      <td>MALE</td>\n",
       "      <td>BTECH</td>\n",
       "      <td>4</td>\n",
       "      <td>01-01-2020</td>\n",
       "      <td>DATA SCIENCE</td>\n",
       "    </tr>\n",
       "    <tr>\n",
       "      <th>freq</th>\n",
       "      <td>1</td>\n",
       "      <td>1</td>\n",
       "      <td>1</td>\n",
       "      <td>3</td>\n",
       "      <td>5</td>\n",
       "      <td>3</td>\n",
       "      <td>1</td>\n",
       "      <td>4</td>\n",
       "    </tr>\n",
       "  </tbody>\n",
       "</table>\n",
       "</div>"
      ],
      "text/plain": [
       "       STU_ID  STU_NAME  AGE GENDER EDUCATION  YOE         DOE        COURSE\n",
       "count       5         5    5      5         5    5           5             5\n",
       "unique      5         5    5      2         1    3           5             2\n",
       "top        S1  NARENDRA   33   MALE     BTECH    4  01-01-2020  DATA SCIENCE\n",
       "freq        1         1    1      3         5    3           1             4"
      ]
     },
     "execution_count": 88,
     "metadata": {},
     "output_type": "execute_result"
    }
   ],
   "source": [
    "STU_ALL_ENQ_FULL.describe()"
   ]
  },
  {
   "cell_type": "code",
   "execution_count": 89,
   "id": "bb396c35",
   "metadata": {},
   "outputs": [
    {
     "name": "stdout",
     "output_type": "stream",
     "text": [
      "<class 'pandas.core.frame.DataFrame'>\n",
      "Int64Index: 5 entries, 0 to 4\n",
      "Data columns (total 8 columns):\n",
      " #   Column     Non-Null Count  Dtype \n",
      "---  ------     --------------  ----- \n",
      " 0   STU_ID     5 non-null      object\n",
      " 1   STU_NAME   5 non-null      object\n",
      " 2   AGE        5 non-null      object\n",
      " 3   GENDER     5 non-null      object\n",
      " 4   EDUCATION  5 non-null      object\n",
      " 5   YOE        5 non-null      object\n",
      " 6   DOE        5 non-null      object\n",
      " 7   COURSE     5 non-null      object\n",
      "dtypes: object(8)\n",
      "memory usage: 360.0+ bytes\n"
     ]
    }
   ],
   "source": [
    "STU_ALL_ENQ_FULL.info()"
   ]
  },
  {
   "cell_type": "code",
   "execution_count": 90,
   "id": "e56d9589",
   "metadata": {},
   "outputs": [
    {
     "data": {
      "text/html": [
       "<div>\n",
       "<style scoped>\n",
       "    .dataframe tbody tr th:only-of-type {\n",
       "        vertical-align: middle;\n",
       "    }\n",
       "\n",
       "    .dataframe tbody tr th {\n",
       "        vertical-align: top;\n",
       "    }\n",
       "\n",
       "    .dataframe thead th {\n",
       "        text-align: right;\n",
       "    }\n",
       "</style>\n",
       "<table border=\"1\" class=\"dataframe\">\n",
       "  <thead>\n",
       "    <tr style=\"text-align: right;\">\n",
       "      <th></th>\n",
       "      <th>STU_ID</th>\n",
       "      <th>STU_NAME</th>\n",
       "      <th>AGE</th>\n",
       "      <th>GENDER</th>\n",
       "      <th>EDUCATION</th>\n",
       "      <th>YOE</th>\n",
       "      <th>DOE</th>\n",
       "      <th>COURSE</th>\n",
       "    </tr>\n",
       "  </thead>\n",
       "  <tbody>\n",
       "    <tr>\n",
       "      <th>0</th>\n",
       "      <td>S1</td>\n",
       "      <td>NARENDRA</td>\n",
       "      <td>33</td>\n",
       "      <td>MALE</td>\n",
       "      <td>BTECH</td>\n",
       "      <td>4</td>\n",
       "      <td>01-01-2020</td>\n",
       "      <td>DATA SCIENCE</td>\n",
       "    </tr>\n",
       "    <tr>\n",
       "      <th>1</th>\n",
       "      <td>S2</td>\n",
       "      <td>CHHABA</td>\n",
       "      <td>24</td>\n",
       "      <td>MALE</td>\n",
       "      <td>BTECH</td>\n",
       "      <td>2</td>\n",
       "      <td>02-01-2020</td>\n",
       "      <td>DATA SCIENCE</td>\n",
       "    </tr>\n",
       "    <tr>\n",
       "      <th>2</th>\n",
       "      <td>S3</td>\n",
       "      <td>NARI</td>\n",
       "      <td>27</td>\n",
       "      <td>FEMALE</td>\n",
       "      <td>BTECH</td>\n",
       "      <td>6</td>\n",
       "      <td>04-01-2020</td>\n",
       "      <td>DATA ANALYTICS</td>\n",
       "    </tr>\n",
       "    <tr>\n",
       "      <th>3</th>\n",
       "      <td>S4</td>\n",
       "      <td>PAPPU</td>\n",
       "      <td>32</td>\n",
       "      <td>MALE</td>\n",
       "      <td>BTECH</td>\n",
       "      <td>4</td>\n",
       "      <td>07-01-2020</td>\n",
       "      <td>DATA SCIENCE</td>\n",
       "    </tr>\n",
       "    <tr>\n",
       "      <th>4</th>\n",
       "      <td>S5</td>\n",
       "      <td>PRACHI</td>\n",
       "      <td>30</td>\n",
       "      <td>FEMALE</td>\n",
       "      <td>BTECH</td>\n",
       "      <td>4</td>\n",
       "      <td>07-03-2020</td>\n",
       "      <td>DATA SCIENCE</td>\n",
       "    </tr>\n",
       "  </tbody>\n",
       "</table>\n",
       "</div>"
      ],
      "text/plain": [
       "  STU_ID  STU_NAME AGE  GENDER EDUCATION YOE         DOE          COURSE\n",
       "0     S1  NARENDRA  33    MALE     BTECH   4  01-01-2020    DATA SCIENCE\n",
       "1     S2    CHHABA  24    MALE     BTECH   2  02-01-2020    DATA SCIENCE\n",
       "2     S3      NARI  27  FEMALE     BTECH   6  04-01-2020  DATA ANALYTICS\n",
       "3     S4     PAPPU  32    MALE     BTECH   4  07-01-2020    DATA SCIENCE\n",
       "4     S5    PRACHI  30  FEMALE     BTECH   4  07-03-2020    DATA SCIENCE"
      ]
     },
     "execution_count": 90,
     "metadata": {},
     "output_type": "execute_result"
    }
   ],
   "source": [
    "STU_ALL_ENQ_FULL.head(5)"
   ]
  },
  {
   "cell_type": "code",
   "execution_count": 91,
   "id": "c35f1b9f",
   "metadata": {},
   "outputs": [
    {
     "data": {
      "text/html": [
       "<div>\n",
       "<style scoped>\n",
       "    .dataframe tbody tr th:only-of-type {\n",
       "        vertical-align: middle;\n",
       "    }\n",
       "\n",
       "    .dataframe tbody tr th {\n",
       "        vertical-align: top;\n",
       "    }\n",
       "\n",
       "    .dataframe thead th {\n",
       "        text-align: right;\n",
       "    }\n",
       "</style>\n",
       "<table border=\"1\" class=\"dataframe\">\n",
       "  <thead>\n",
       "    <tr style=\"text-align: right;\">\n",
       "      <th></th>\n",
       "      <th>STU_ID</th>\n",
       "      <th>STU_NAME</th>\n",
       "      <th>AGE</th>\n",
       "      <th>GENDER</th>\n",
       "      <th>EDUCATION</th>\n",
       "      <th>YOE</th>\n",
       "      <th>DOE</th>\n",
       "      <th>COURSE</th>\n",
       "    </tr>\n",
       "  </thead>\n",
       "  <tbody>\n",
       "    <tr>\n",
       "      <th>0</th>\n",
       "      <td>S1</td>\n",
       "      <td>NARENDRA</td>\n",
       "      <td>33</td>\n",
       "      <td>MALE</td>\n",
       "      <td>BTECH</td>\n",
       "      <td>4</td>\n",
       "      <td>01-01-2020</td>\n",
       "      <td>DATA SCIENCE</td>\n",
       "    </tr>\n",
       "    <tr>\n",
       "      <th>1</th>\n",
       "      <td>S2</td>\n",
       "      <td>CHHABA</td>\n",
       "      <td>24</td>\n",
       "      <td>MALE</td>\n",
       "      <td>BTECH</td>\n",
       "      <td>2</td>\n",
       "      <td>02-01-2020</td>\n",
       "      <td>DATA SCIENCE</td>\n",
       "    </tr>\n",
       "    <tr>\n",
       "      <th>2</th>\n",
       "      <td>S3</td>\n",
       "      <td>NARI</td>\n",
       "      <td>27</td>\n",
       "      <td>FEMALE</td>\n",
       "      <td>BTECH</td>\n",
       "      <td>6</td>\n",
       "      <td>04-01-2020</td>\n",
       "      <td>DATA ANALYTICS</td>\n",
       "    </tr>\n",
       "    <tr>\n",
       "      <th>3</th>\n",
       "      <td>S4</td>\n",
       "      <td>PAPPU</td>\n",
       "      <td>32</td>\n",
       "      <td>MALE</td>\n",
       "      <td>BTECH</td>\n",
       "      <td>4</td>\n",
       "      <td>07-01-2020</td>\n",
       "      <td>DATA SCIENCE</td>\n",
       "    </tr>\n",
       "    <tr>\n",
       "      <th>4</th>\n",
       "      <td>S5</td>\n",
       "      <td>PRACHI</td>\n",
       "      <td>30</td>\n",
       "      <td>FEMALE</td>\n",
       "      <td>BTECH</td>\n",
       "      <td>4</td>\n",
       "      <td>07-03-2020</td>\n",
       "      <td>DATA SCIENCE</td>\n",
       "    </tr>\n",
       "  </tbody>\n",
       "</table>\n",
       "</div>"
      ],
      "text/plain": [
       "  STU_ID  STU_NAME AGE  GENDER EDUCATION YOE         DOE          COURSE\n",
       "0     S1  NARENDRA  33    MALE     BTECH   4  01-01-2020    DATA SCIENCE\n",
       "1     S2    CHHABA  24    MALE     BTECH   2  02-01-2020    DATA SCIENCE\n",
       "2     S3      NARI  27  FEMALE     BTECH   6  04-01-2020  DATA ANALYTICS\n",
       "3     S4     PAPPU  32    MALE     BTECH   4  07-01-2020    DATA SCIENCE\n",
       "4     S5    PRACHI  30  FEMALE     BTECH   4  07-03-2020    DATA SCIENCE"
      ]
     },
     "execution_count": 91,
     "metadata": {},
     "output_type": "execute_result"
    }
   ],
   "source": [
    "STU_ALL_ENQ_FULL.tail(5)"
   ]
  },
  {
   "cell_type": "markdown",
   "id": "e4ff2cd8",
   "metadata": {},
   "source": [
    "# HOW TO DROP,DELETE AND TRUNCATE A TABLE"
   ]
  },
  {
   "cell_type": "code",
   "execution_count": 92,
   "id": "2d1e60e2",
   "metadata": {},
   "outputs": [],
   "source": [
    "del (STU_ALL_ENQ_FULL)"
   ]
  },
  {
   "cell_type": "code",
   "execution_count": 93,
   "id": "3ae058e3",
   "metadata": {
    "scrolled": true
   },
   "outputs": [
    {
     "ename": "NameError",
     "evalue": "name 'STU_ALL_ENQ_FULL' is not defined",
     "output_type": "error",
     "traceback": [
      "\u001b[1;31m---------------------------------------------------------------------------\u001b[0m",
      "\u001b[1;31mNameError\u001b[0m                                 Traceback (most recent call last)",
      "\u001b[1;32m~\\AppData\\Local\\Temp/ipykernel_4752/294494936.py\u001b[0m in \u001b[0;36m<module>\u001b[1;34m\u001b[0m\n\u001b[1;32m----> 1\u001b[1;33m \u001b[0mSTU_ALL_ENQ_FULL\u001b[0m\u001b[1;33m\u001b[0m\u001b[1;33m\u001b[0m\u001b[0m\n\u001b[0m",
      "\u001b[1;31mNameError\u001b[0m: name 'STU_ALL_ENQ_FULL' is not defined"
     ]
    }
   ],
   "source": [
    "STU_ALL_ENQ_FULL"
   ]
  },
  {
   "cell_type": "code",
   "execution_count": 94,
   "id": "40441380",
   "metadata": {},
   "outputs": [
    {
     "data": {
      "text/html": [
       "<div>\n",
       "<style scoped>\n",
       "    .dataframe tbody tr th:only-of-type {\n",
       "        vertical-align: middle;\n",
       "    }\n",
       "\n",
       "    .dataframe tbody tr th {\n",
       "        vertical-align: top;\n",
       "    }\n",
       "\n",
       "    .dataframe thead th {\n",
       "        text-align: right;\n",
       "    }\n",
       "</style>\n",
       "<table border=\"1\" class=\"dataframe\">\n",
       "  <thead>\n",
       "    <tr style=\"text-align: right;\">\n",
       "      <th></th>\n",
       "      <th>STU_ID</th>\n",
       "      <th>STU_NAME</th>\n",
       "      <th>AGE</th>\n",
       "      <th>GENDER</th>\n",
       "      <th>EDUCATION</th>\n",
       "      <th>YOE</th>\n",
       "      <th>DOE</th>\n",
       "      <th>COURSE</th>\n",
       "    </tr>\n",
       "  </thead>\n",
       "  <tbody>\n",
       "    <tr>\n",
       "      <th>0</th>\n",
       "      <td>S1</td>\n",
       "      <td>NARENDRA</td>\n",
       "      <td>33</td>\n",
       "      <td>MALE</td>\n",
       "      <td>BTECH</td>\n",
       "      <td>4</td>\n",
       "      <td>01-01-2020</td>\n",
       "      <td>DATA SCIENCE</td>\n",
       "    </tr>\n",
       "    <tr>\n",
       "      <th>1</th>\n",
       "      <td>S2</td>\n",
       "      <td>CHHABA</td>\n",
       "      <td>24</td>\n",
       "      <td>MALE</td>\n",
       "      <td>BTECH</td>\n",
       "      <td>2</td>\n",
       "      <td>02-01-2020</td>\n",
       "      <td>DATA SCIENCE</td>\n",
       "    </tr>\n",
       "    <tr>\n",
       "      <th>2</th>\n",
       "      <td>S3</td>\n",
       "      <td>NARI</td>\n",
       "      <td>27</td>\n",
       "      <td>FEMALE</td>\n",
       "      <td>BTECH</td>\n",
       "      <td>6</td>\n",
       "      <td>04-01-2020</td>\n",
       "      <td>DATA ANALYTICS</td>\n",
       "    </tr>\n",
       "    <tr>\n",
       "      <th>3</th>\n",
       "      <td>S4</td>\n",
       "      <td>PAPPU</td>\n",
       "      <td>32</td>\n",
       "      <td>MALE</td>\n",
       "      <td>BTECH</td>\n",
       "      <td>4</td>\n",
       "      <td>07-01-2020</td>\n",
       "      <td>DATA SCIENCE</td>\n",
       "    </tr>\n",
       "    <tr>\n",
       "      <th>4</th>\n",
       "      <td>S5</td>\n",
       "      <td>PRACHI</td>\n",
       "      <td>30</td>\n",
       "      <td>FEMALE</td>\n",
       "      <td>BTECH</td>\n",
       "      <td>4</td>\n",
       "      <td>07-03-2020</td>\n",
       "      <td>DATA SCIENCE</td>\n",
       "    </tr>\n",
       "  </tbody>\n",
       "</table>\n",
       "</div>"
      ],
      "text/plain": [
       "  STU_ID  STU_NAME AGE  GENDER EDUCATION YOE         DOE          COURSE\n",
       "0     S1  NARENDRA  33    MALE     BTECH   4  01-01-2020    DATA SCIENCE\n",
       "1     S2    CHHABA  24    MALE     BTECH   2  02-01-2020    DATA SCIENCE\n",
       "2     S3      NARI  27  FEMALE     BTECH   6  04-01-2020  DATA ANALYTICS\n",
       "3     S4     PAPPU  32    MALE     BTECH   4  07-01-2020    DATA SCIENCE\n",
       "4     S5    PRACHI  30  FEMALE     BTECH   4  07-03-2020    DATA SCIENCE"
      ]
     },
     "execution_count": 94,
     "metadata": {},
     "output_type": "execute_result"
    }
   ],
   "source": [
    "import pandas as pd\n",
    "STU_ALL_ENQ=['STU_ID','STU_NAME','AGE','GENDER','EDUCATION','YOE','DOE','COURSE']\n",
    "\n",
    "STU_ALL_ENQ_FULL=pd.DataFrame(columns=STU_ALL_ENQ)\n",
    "\n",
    "LIST_OF_VALUES=[pd.Series(['S1','NARENDRA',33,'MALE','BTECH',4,'01-01-2020','DATA SCIENCE'],index=STU_ALL_ENQ_FULL.columns),\n",
    "                 pd.Series(['S2','CHHABA',24,'MALE','BTECH',2,'02-01-2020','DATA SCIENCE'],index=STU_ALL_ENQ_FULL.columns),\n",
    "                 pd.Series(['S3','NARI',27,'FEMALE','BTECH',6,'04-01-2020','DATA ANALYTICS'],index=STU_ALL_ENQ_FULL.columns),\n",
    "                  pd.Series(['S4','PAPPU',32,'MALE','BTECH',4,'07-01-2020','DATA SCIENCE'],index=STU_ALL_ENQ_FULL.columns),\n",
    "                  pd.Series(['S5','PRACHI',30,'FEMALE','BTECH',4,'07-03-2020','DATA SCIENCE'],index=STU_ALL_ENQ_FULL.columns)]\n",
    "STU_ALL_ENQ_FULL = STU_ALL_ENQ_FULL.append(LIST_OF_VALUES, ignore_index=False)\n",
    "\n",
    "STU_ALL_ENQ_FULL"
   ]
  },
  {
   "cell_type": "code",
   "execution_count": 95,
   "id": "72015f00",
   "metadata": {},
   "outputs": [
    {
     "data": {
      "text/html": [
       "<div>\n",
       "<style scoped>\n",
       "    .dataframe tbody tr th:only-of-type {\n",
       "        vertical-align: middle;\n",
       "    }\n",
       "\n",
       "    .dataframe tbody tr th {\n",
       "        vertical-align: top;\n",
       "    }\n",
       "\n",
       "    .dataframe thead th {\n",
       "        text-align: right;\n",
       "    }\n",
       "</style>\n",
       "<table border=\"1\" class=\"dataframe\">\n",
       "  <thead>\n",
       "    <tr style=\"text-align: right;\">\n",
       "      <th></th>\n",
       "      <th>STU_ID</th>\n",
       "      <th>STU_NAME</th>\n",
       "      <th>AGE</th>\n",
       "      <th>GENDER</th>\n",
       "      <th>EDUCATION</th>\n",
       "      <th>YOE</th>\n",
       "      <th>DOE</th>\n",
       "      <th>COURSE</th>\n",
       "    </tr>\n",
       "  </thead>\n",
       "  <tbody>\n",
       "  </tbody>\n",
       "</table>\n",
       "</div>"
      ],
      "text/plain": [
       "Empty DataFrame\n",
       "Columns: [STU_ID, STU_NAME, AGE, GENDER, EDUCATION, YOE, DOE, COURSE]\n",
       "Index: []"
      ]
     },
     "execution_count": 95,
     "metadata": {},
     "output_type": "execute_result"
    }
   ],
   "source": [
    "# HOW TO TRUNCATE A TABLE\n",
    "STU_ALL_ENQ_FULL=STU_ALL_ENQ_FULL.iloc[0:0]\n",
    "STU_ALL_ENQ_FULL\n"
   ]
  },
  {
   "cell_type": "code",
   "execution_count": 96,
   "id": "67c5f03e",
   "metadata": {},
   "outputs": [
    {
     "data": {
      "text/html": [
       "<div>\n",
       "<style scoped>\n",
       "    .dataframe tbody tr th:only-of-type {\n",
       "        vertical-align: middle;\n",
       "    }\n",
       "\n",
       "    .dataframe tbody tr th {\n",
       "        vertical-align: top;\n",
       "    }\n",
       "\n",
       "    .dataframe thead th {\n",
       "        text-align: right;\n",
       "    }\n",
       "</style>\n",
       "<table border=\"1\" class=\"dataframe\">\n",
       "  <thead>\n",
       "    <tr style=\"text-align: right;\">\n",
       "      <th></th>\n",
       "      <th>STU_ID</th>\n",
       "      <th>STU_NAME</th>\n",
       "      <th>AGE</th>\n",
       "      <th>GENDER</th>\n",
       "      <th>EDUCATION</th>\n",
       "      <th>YOE</th>\n",
       "      <th>DOE</th>\n",
       "      <th>COURSE</th>\n",
       "    </tr>\n",
       "  </thead>\n",
       "  <tbody>\n",
       "    <tr>\n",
       "      <th>0</th>\n",
       "      <td>S1</td>\n",
       "      <td>NARENDRA</td>\n",
       "      <td>33</td>\n",
       "      <td>MALE</td>\n",
       "      <td>BTECH</td>\n",
       "      <td>4</td>\n",
       "      <td>01-01-2020</td>\n",
       "      <td>DATA SCIENCE</td>\n",
       "    </tr>\n",
       "    <tr>\n",
       "      <th>1</th>\n",
       "      <td>S2</td>\n",
       "      <td>CHHABA</td>\n",
       "      <td>24</td>\n",
       "      <td>MALE</td>\n",
       "      <td>BTECH</td>\n",
       "      <td>2</td>\n",
       "      <td>02-01-2020</td>\n",
       "      <td>DATA SCIENCE</td>\n",
       "    </tr>\n",
       "    <tr>\n",
       "      <th>2</th>\n",
       "      <td>S3</td>\n",
       "      <td>NARI</td>\n",
       "      <td>27</td>\n",
       "      <td>FEMALE</td>\n",
       "      <td>BTECH</td>\n",
       "      <td>6</td>\n",
       "      <td>04-01-2020</td>\n",
       "      <td>DATA ANALYTICS</td>\n",
       "    </tr>\n",
       "    <tr>\n",
       "      <th>3</th>\n",
       "      <td>S4</td>\n",
       "      <td>PAPPU</td>\n",
       "      <td>32</td>\n",
       "      <td>MALE</td>\n",
       "      <td>BTECH</td>\n",
       "      <td>4</td>\n",
       "      <td>07-01-2020</td>\n",
       "      <td>DATA SCIENCE</td>\n",
       "    </tr>\n",
       "    <tr>\n",
       "      <th>4</th>\n",
       "      <td>S5</td>\n",
       "      <td>PRACHI</td>\n",
       "      <td>30</td>\n",
       "      <td>FEMALE</td>\n",
       "      <td>BTECH</td>\n",
       "      <td>4</td>\n",
       "      <td>07-03-2020</td>\n",
       "      <td>DATA SCIENCE</td>\n",
       "    </tr>\n",
       "  </tbody>\n",
       "</table>\n",
       "</div>"
      ],
      "text/plain": [
       "  STU_ID  STU_NAME AGE  GENDER EDUCATION YOE         DOE          COURSE\n",
       "0     S1  NARENDRA  33    MALE     BTECH   4  01-01-2020    DATA SCIENCE\n",
       "1     S2    CHHABA  24    MALE     BTECH   2  02-01-2020    DATA SCIENCE\n",
       "2     S3      NARI  27  FEMALE     BTECH   6  04-01-2020  DATA ANALYTICS\n",
       "3     S4     PAPPU  32    MALE     BTECH   4  07-01-2020    DATA SCIENCE\n",
       "4     S5    PRACHI  30  FEMALE     BTECH   4  07-03-2020    DATA SCIENCE"
      ]
     },
     "execution_count": 96,
     "metadata": {},
     "output_type": "execute_result"
    }
   ],
   "source": [
    "import pandas as pd\n",
    "STU_ALL_ENQ=['STU_ID','STU_NAME','AGE','GENDER','EDUCATION','YOE','DOE','COURSE']\n",
    "\n",
    "STU_ALL_ENQ_FULL=pd.DataFrame(columns=STU_ALL_ENQ)\n",
    "\n",
    "LIST_OF_VALUES=[pd.Series(['S1','NARENDRA',33,'MALE','BTECH',4,'01-01-2020','DATA SCIENCE'],index=STU_ALL_ENQ_FULL.columns),\n",
    "                 pd.Series(['S2','CHHABA',24,'MALE','BTECH',2,'02-01-2020','DATA SCIENCE'],index=STU_ALL_ENQ_FULL.columns),\n",
    "                 pd.Series(['S3','NARI',27,'FEMALE','BTECH',6,'04-01-2020','DATA ANALYTICS'],index=STU_ALL_ENQ_FULL.columns),\n",
    "                  pd.Series(['S4','PAPPU',32,'MALE','BTECH',4,'07-01-2020','DATA SCIENCE'],index=STU_ALL_ENQ_FULL.columns),\n",
    "                  pd.Series(['S5','PRACHI',30,'FEMALE','BTECH',4,'07-03-2020','DATA SCIENCE'],index=STU_ALL_ENQ_FULL.columns)]\n",
    "STU_ALL_ENQ_FULL = STU_ALL_ENQ_FULL.append(LIST_OF_VALUES, ignore_index=False)\n",
    "\n",
    "STU_ALL_ENQ_FULL"
   ]
  },
  {
   "cell_type": "markdown",
   "id": "9974885b",
   "metadata": {},
   "source": [
    "# HOW TO ADD COLUMN AND DROP COLUMN"
   ]
  },
  {
   "cell_type": "code",
   "execution_count": 97,
   "id": "875f494e",
   "metadata": {},
   "outputs": [
    {
     "data": {
      "text/html": [
       "<div>\n",
       "<style scoped>\n",
       "    .dataframe tbody tr th:only-of-type {\n",
       "        vertical-align: middle;\n",
       "    }\n",
       "\n",
       "    .dataframe tbody tr th {\n",
       "        vertical-align: top;\n",
       "    }\n",
       "\n",
       "    .dataframe thead th {\n",
       "        text-align: right;\n",
       "    }\n",
       "</style>\n",
       "<table border=\"1\" class=\"dataframe\">\n",
       "  <thead>\n",
       "    <tr style=\"text-align: right;\">\n",
       "      <th></th>\n",
       "      <th>STU_ID</th>\n",
       "      <th>STU_NAME</th>\n",
       "      <th>AGE</th>\n",
       "      <th>GENDER</th>\n",
       "      <th>EDUCATION</th>\n",
       "      <th>YOE</th>\n",
       "      <th>DOE</th>\n",
       "      <th>COURSE</th>\n",
       "      <th>INSTITUTE</th>\n",
       "    </tr>\n",
       "  </thead>\n",
       "  <tbody>\n",
       "    <tr>\n",
       "      <th>0</th>\n",
       "      <td>S1</td>\n",
       "      <td>NARENDRA</td>\n",
       "      <td>33</td>\n",
       "      <td>MALE</td>\n",
       "      <td>BTECH</td>\n",
       "      <td>4</td>\n",
       "      <td>01-01-2020</td>\n",
       "      <td>DATA SCIENCE</td>\n",
       "      <td>NaN</td>\n",
       "    </tr>\n",
       "    <tr>\n",
       "      <th>1</th>\n",
       "      <td>S2</td>\n",
       "      <td>CHHABA</td>\n",
       "      <td>24</td>\n",
       "      <td>MALE</td>\n",
       "      <td>BTECH</td>\n",
       "      <td>2</td>\n",
       "      <td>02-01-2020</td>\n",
       "      <td>DATA SCIENCE</td>\n",
       "      <td>NaN</td>\n",
       "    </tr>\n",
       "    <tr>\n",
       "      <th>2</th>\n",
       "      <td>S3</td>\n",
       "      <td>NARI</td>\n",
       "      <td>27</td>\n",
       "      <td>FEMALE</td>\n",
       "      <td>BTECH</td>\n",
       "      <td>6</td>\n",
       "      <td>04-01-2020</td>\n",
       "      <td>DATA ANALYTICS</td>\n",
       "      <td>NaN</td>\n",
       "    </tr>\n",
       "    <tr>\n",
       "      <th>3</th>\n",
       "      <td>S4</td>\n",
       "      <td>PAPPU</td>\n",
       "      <td>32</td>\n",
       "      <td>MALE</td>\n",
       "      <td>BTECH</td>\n",
       "      <td>4</td>\n",
       "      <td>07-01-2020</td>\n",
       "      <td>DATA SCIENCE</td>\n",
       "      <td>NaN</td>\n",
       "    </tr>\n",
       "    <tr>\n",
       "      <th>4</th>\n",
       "      <td>S5</td>\n",
       "      <td>PRACHI</td>\n",
       "      <td>30</td>\n",
       "      <td>FEMALE</td>\n",
       "      <td>BTECH</td>\n",
       "      <td>4</td>\n",
       "      <td>07-03-2020</td>\n",
       "      <td>DATA SCIENCE</td>\n",
       "      <td>NaN</td>\n",
       "    </tr>\n",
       "  </tbody>\n",
       "</table>\n",
       "</div>"
      ],
      "text/plain": [
       "  STU_ID  STU_NAME AGE  GENDER EDUCATION YOE         DOE          COURSE  \\\n",
       "0     S1  NARENDRA  33    MALE     BTECH   4  01-01-2020    DATA SCIENCE   \n",
       "1     S2    CHHABA  24    MALE     BTECH   2  02-01-2020    DATA SCIENCE   \n",
       "2     S3      NARI  27  FEMALE     BTECH   6  04-01-2020  DATA ANALYTICS   \n",
       "3     S4     PAPPU  32    MALE     BTECH   4  07-01-2020    DATA SCIENCE   \n",
       "4     S5    PRACHI  30  FEMALE     BTECH   4  07-03-2020    DATA SCIENCE   \n",
       "\n",
       "   INSTITUTE  \n",
       "0        NaN  \n",
       "1        NaN  \n",
       "2        NaN  \n",
       "3        NaN  \n",
       "4        NaN  "
      ]
     },
     "execution_count": 97,
     "metadata": {},
     "output_type": "execute_result"
    }
   ],
   "source": [
    "# HOW TO ADD A NEW COLUMN TO THE TABLE\n",
    "\n",
    "import numpy as np\n",
    "\n",
    "STU_ALL_ENQ_FULL['INSTITUTE']=np.nan\n",
    "\n",
    "\n",
    "STU_ALL_ENQ_FULL"
   ]
  },
  {
   "cell_type": "code",
   "execution_count": 98,
   "id": "4152bcfe",
   "metadata": {},
   "outputs": [
    {
     "data": {
      "text/html": [
       "<div>\n",
       "<style scoped>\n",
       "    .dataframe tbody tr th:only-of-type {\n",
       "        vertical-align: middle;\n",
       "    }\n",
       "\n",
       "    .dataframe tbody tr th {\n",
       "        vertical-align: top;\n",
       "    }\n",
       "\n",
       "    .dataframe thead th {\n",
       "        text-align: right;\n",
       "    }\n",
       "</style>\n",
       "<table border=\"1\" class=\"dataframe\">\n",
       "  <thead>\n",
       "    <tr style=\"text-align: right;\">\n",
       "      <th></th>\n",
       "      <th>STU_ID</th>\n",
       "      <th>STU_NAME</th>\n",
       "      <th>AGE</th>\n",
       "      <th>GENDER</th>\n",
       "      <th>EDUCATION</th>\n",
       "      <th>YOE</th>\n",
       "      <th>DOE</th>\n",
       "      <th>COURSE</th>\n",
       "    </tr>\n",
       "  </thead>\n",
       "  <tbody>\n",
       "    <tr>\n",
       "      <th>0</th>\n",
       "      <td>S1</td>\n",
       "      <td>NARENDRA</td>\n",
       "      <td>33</td>\n",
       "      <td>MALE</td>\n",
       "      <td>BTECH</td>\n",
       "      <td>4</td>\n",
       "      <td>01-01-2020</td>\n",
       "      <td>DATA SCIENCE</td>\n",
       "    </tr>\n",
       "    <tr>\n",
       "      <th>1</th>\n",
       "      <td>S2</td>\n",
       "      <td>CHHABA</td>\n",
       "      <td>24</td>\n",
       "      <td>MALE</td>\n",
       "      <td>BTECH</td>\n",
       "      <td>2</td>\n",
       "      <td>02-01-2020</td>\n",
       "      <td>DATA SCIENCE</td>\n",
       "    </tr>\n",
       "    <tr>\n",
       "      <th>2</th>\n",
       "      <td>S3</td>\n",
       "      <td>NARI</td>\n",
       "      <td>27</td>\n",
       "      <td>FEMALE</td>\n",
       "      <td>BTECH</td>\n",
       "      <td>6</td>\n",
       "      <td>04-01-2020</td>\n",
       "      <td>DATA ANALYTICS</td>\n",
       "    </tr>\n",
       "    <tr>\n",
       "      <th>3</th>\n",
       "      <td>S4</td>\n",
       "      <td>PAPPU</td>\n",
       "      <td>32</td>\n",
       "      <td>MALE</td>\n",
       "      <td>BTECH</td>\n",
       "      <td>4</td>\n",
       "      <td>07-01-2020</td>\n",
       "      <td>DATA SCIENCE</td>\n",
       "    </tr>\n",
       "    <tr>\n",
       "      <th>4</th>\n",
       "      <td>S5</td>\n",
       "      <td>PRACHI</td>\n",
       "      <td>30</td>\n",
       "      <td>FEMALE</td>\n",
       "      <td>BTECH</td>\n",
       "      <td>4</td>\n",
       "      <td>07-03-2020</td>\n",
       "      <td>DATA SCIENCE</td>\n",
       "    </tr>\n",
       "  </tbody>\n",
       "</table>\n",
       "</div>"
      ],
      "text/plain": [
       "  STU_ID  STU_NAME AGE  GENDER EDUCATION YOE         DOE          COURSE\n",
       "0     S1  NARENDRA  33    MALE     BTECH   4  01-01-2020    DATA SCIENCE\n",
       "1     S2    CHHABA  24    MALE     BTECH   2  02-01-2020    DATA SCIENCE\n",
       "2     S3      NARI  27  FEMALE     BTECH   6  04-01-2020  DATA ANALYTICS\n",
       "3     S4     PAPPU  32    MALE     BTECH   4  07-01-2020    DATA SCIENCE\n",
       "4     S5    PRACHI  30  FEMALE     BTECH   4  07-03-2020    DATA SCIENCE"
      ]
     },
     "execution_count": 98,
     "metadata": {},
     "output_type": "execute_result"
    }
   ],
   "source": [
    "# HOW TO DROP A COLUMN\n",
    "\n",
    "STU_ALL_ENQ_FULL_v1=STU_ALL_ENQ_FULL.drop('INSTITUTE',axis='columns')\n",
    "\n",
    "STU_ALL_ENQ_FULL_v1\n"
   ]
  },
  {
   "cell_type": "markdown",
   "id": "5ab03f28",
   "metadata": {},
   "source": [
    "# DATA IMPORTING IN PYTHON READING FROM EXCEL,CSV AND TXT FILE, DATABASE FILES"
   ]
  },
  {
   "cell_type": "code",
   "execution_count": 99,
   "id": "ebdea664",
   "metadata": {},
   "outputs": [
    {
     "data": {
      "text/html": [
       "<div>\n",
       "<style scoped>\n",
       "    .dataframe tbody tr th:only-of-type {\n",
       "        vertical-align: middle;\n",
       "    }\n",
       "\n",
       "    .dataframe tbody tr th {\n",
       "        vertical-align: top;\n",
       "    }\n",
       "\n",
       "    .dataframe thead th {\n",
       "        text-align: right;\n",
       "    }\n",
       "</style>\n",
       "<table border=\"1\" class=\"dataframe\">\n",
       "  <thead>\n",
       "    <tr style=\"text-align: right;\">\n",
       "      <th></th>\n",
       "      <th>CUSTOMER_ID</th>\n",
       "      <th>Company</th>\n",
       "      <th>CARD_REG_DATE</th>\n",
       "      <th>CARD_ACTIVE</th>\n",
       "      <th>FIRST_USE_DTE</th>\n",
       "      <th>firstSTOR</th>\n",
       "      <th>TITLE</th>\n",
       "      <th>GENDER</th>\n",
       "      <th>max spent</th>\n",
       "      <th>DOB</th>\n",
       "      <th>...</th>\n",
       "      <th>CUST_STAT</th>\n",
       "      <th>Avgsize spent</th>\n",
       "      <th>CARD_STAT</th>\n",
       "      <th>RGSTN_TYPE_IND</th>\n",
       "      <th>NO_OF_TRIPS</th>\n",
       "      <th>TOWN</th>\n",
       "      <th>EMAIL_IND</th>\n",
       "      <th>CONTACT_PREF</th>\n",
       "      <th>Average_Qty_PER_ACC</th>\n",
       "      <th>Spent amount</th>\n",
       "    </tr>\n",
       "  </thead>\n",
       "  <tbody>\n",
       "    <tr>\n",
       "      <th>0</th>\n",
       "      <td>1000032547</td>\n",
       "      <td>MED +</td>\n",
       "      <td>2006-09-12 00:00:00</td>\n",
       "      <td>Y</td>\n",
       "      <td>2007-05-12 00:00:00</td>\n",
       "      <td>2587</td>\n",
       "      <td>Mrs.</td>\n",
       "      <td>Female</td>\n",
       "      <td>56.31</td>\n",
       "      <td>1984-09-15</td>\n",
       "      <td>...</td>\n",
       "      <td>Active</td>\n",
       "      <td>17.34</td>\n",
       "      <td>Registered</td>\n",
       "      <td>Online</td>\n",
       "      <td>4</td>\n",
       "      <td>Kyabram</td>\n",
       "      <td>Y</td>\n",
       "      <td>Email</td>\n",
       "      <td>2.75</td>\n",
       "      <td>69.37</td>\n",
       "    </tr>\n",
       "    <tr>\n",
       "      <th>1</th>\n",
       "      <td>1000032548</td>\n",
       "      <td>DR.REDDYS</td>\n",
       "      <td>2006-09-12 00:00:00</td>\n",
       "      <td>Y</td>\n",
       "      <td>2007-03-12 00:00:00</td>\n",
       "      <td>4341</td>\n",
       "      <td>Ms.</td>\n",
       "      <td>Female</td>\n",
       "      <td>598.95</td>\n",
       "      <td>1974-07-15</td>\n",
       "      <td>...</td>\n",
       "      <td>Active</td>\n",
       "      <td>29.32</td>\n",
       "      <td>Registered</td>\n",
       "      <td>Online</td>\n",
       "      <td>17</td>\n",
       "      <td>Hawthorn East</td>\n",
       "      <td>Y</td>\n",
       "      <td>Email</td>\n",
       "      <td>7.29</td>\n",
       "      <td>498.50</td>\n",
       "    </tr>\n",
       "    <tr>\n",
       "      <th>2</th>\n",
       "      <td>1000032549</td>\n",
       "      <td>RELEGARE</td>\n",
       "      <td>2006-09-12 00:00:00</td>\n",
       "      <td>Y</td>\n",
       "      <td>2007-02-12 00:00:00</td>\n",
       "      <td>1090</td>\n",
       "      <td>Mrs.</td>\n",
       "      <td>Female</td>\n",
       "      <td>1.56</td>\n",
       "      <td>1959-04-01</td>\n",
       "      <td>...</td>\n",
       "      <td>Active</td>\n",
       "      <td>1.56</td>\n",
       "      <td>Registered</td>\n",
       "      <td>Online</td>\n",
       "      <td>1</td>\n",
       "      <td>Revesby</td>\n",
       "      <td>Y</td>\n",
       "      <td>Email</td>\n",
       "      <td>2.00</td>\n",
       "      <td>1.56</td>\n",
       "    </tr>\n",
       "    <tr>\n",
       "      <th>3</th>\n",
       "      <td>1000032550</td>\n",
       "      <td>GSK</td>\n",
       "      <td>2006-09-12 00:00:00</td>\n",
       "      <td>Y</td>\n",
       "      <td>2007-03-12 00:00:00</td>\n",
       "      <td>3179</td>\n",
       "      <td>Mr.</td>\n",
       "      <td>Male</td>\n",
       "      <td>115.76</td>\n",
       "      <td>1978-05-16</td>\n",
       "      <td>...</td>\n",
       "      <td>Active</td>\n",
       "      <td>80.49</td>\n",
       "      <td>Registered</td>\n",
       "      <td>Online</td>\n",
       "      <td>2</td>\n",
       "      <td>Willow Grove</td>\n",
       "      <td>Y</td>\n",
       "      <td>Email</td>\n",
       "      <td>26.00</td>\n",
       "      <td>160.98</td>\n",
       "    </tr>\n",
       "    <tr>\n",
       "      <th>4</th>\n",
       "      <td>1000032551</td>\n",
       "      <td>GSK</td>\n",
       "      <td>2006-09-12 00:00:00</td>\n",
       "      <td>Y</td>\n",
       "      <td>2007-05-12 00:00:00</td>\n",
       "      <td>3135</td>\n",
       "      <td>Mr.</td>\n",
       "      <td>Male</td>\n",
       "      <td>305.90</td>\n",
       "      <td>1978-12-16</td>\n",
       "      <td>...</td>\n",
       "      <td>Active</td>\n",
       "      <td>24.09</td>\n",
       "      <td>Registered</td>\n",
       "      <td>Online</td>\n",
       "      <td>12</td>\n",
       "      <td>mona vale</td>\n",
       "      <td>Y</td>\n",
       "      <td>Email</td>\n",
       "      <td>6.33</td>\n",
       "      <td>289.10</td>\n",
       "    </tr>\n",
       "    <tr>\n",
       "      <th>...</th>\n",
       "      <td>...</td>\n",
       "      <td>...</td>\n",
       "      <td>...</td>\n",
       "      <td>...</td>\n",
       "      <td>...</td>\n",
       "      <td>...</td>\n",
       "      <td>...</td>\n",
       "      <td>...</td>\n",
       "      <td>...</td>\n",
       "      <td>...</td>\n",
       "      <td>...</td>\n",
       "      <td>...</td>\n",
       "      <td>...</td>\n",
       "      <td>...</td>\n",
       "      <td>...</td>\n",
       "      <td>...</td>\n",
       "      <td>...</td>\n",
       "      <td>...</td>\n",
       "      <td>...</td>\n",
       "      <td>...</td>\n",
       "      <td>...</td>\n",
       "    </tr>\n",
       "    <tr>\n",
       "      <th>5107</th>\n",
       "      <td>1000037830</td>\n",
       "      <td>RELEGARE</td>\n",
       "      <td>2008-05-06 00:00:00</td>\n",
       "      <td>Y</td>\n",
       "      <td>2009-05-02 00:00:00</td>\n",
       "      <td>3381</td>\n",
       "      <td>Mr.</td>\n",
       "      <td>Male</td>\n",
       "      <td>198.36</td>\n",
       "      <td>1935-11-23</td>\n",
       "      <td>...</td>\n",
       "      <td>Active</td>\n",
       "      <td>66.12</td>\n",
       "      <td>Registered</td>\n",
       "      <td>Online</td>\n",
       "      <td>3</td>\n",
       "      <td>Kyvalley</td>\n",
       "      <td>N</td>\n",
       "      <td>NaN</td>\n",
       "      <td>21.33</td>\n",
       "      <td>198.36</td>\n",
       "    </tr>\n",
       "    <tr>\n",
       "      <th>5108</th>\n",
       "      <td>1000037831</td>\n",
       "      <td>APPOLO</td>\n",
       "      <td>2008-05-06 00:00:00</td>\n",
       "      <td>Y</td>\n",
       "      <td>2008-10-06 00:00:00</td>\n",
       "      <td>3244</td>\n",
       "      <td>Mrs.</td>\n",
       "      <td>Female</td>\n",
       "      <td>28.09</td>\n",
       "      <td>1956-08-27</td>\n",
       "      <td>...</td>\n",
       "      <td>Active</td>\n",
       "      <td>28.09</td>\n",
       "      <td>Registered</td>\n",
       "      <td>Online</td>\n",
       "      <td>1</td>\n",
       "      <td>frankston</td>\n",
       "      <td>Y</td>\n",
       "      <td>Email</td>\n",
       "      <td>10.00</td>\n",
       "      <td>28.09</td>\n",
       "    </tr>\n",
       "    <tr>\n",
       "      <th>5109</th>\n",
       "      <td>1000037832</td>\n",
       "      <td>GSK</td>\n",
       "      <td>2008-05-06 00:00:00</td>\n",
       "      <td>Y</td>\n",
       "      <td>2009-05-04 00:00:00</td>\n",
       "      <td>3381</td>\n",
       "      <td>Mrs.</td>\n",
       "      <td>Female</td>\n",
       "      <td>653.10</td>\n",
       "      <td>1982-05-13</td>\n",
       "      <td>...</td>\n",
       "      <td>Active</td>\n",
       "      <td>94.77</td>\n",
       "      <td>Registered</td>\n",
       "      <td>Phone</td>\n",
       "      <td>9</td>\n",
       "      <td>KYABRAM</td>\n",
       "      <td>N</td>\n",
       "      <td>NaN</td>\n",
       "      <td>27.44</td>\n",
       "      <td>852.98</td>\n",
       "    </tr>\n",
       "    <tr>\n",
       "      <th>5110</th>\n",
       "      <td>1000037833</td>\n",
       "      <td>MED +</td>\n",
       "      <td>2008-05-06 00:00:00</td>\n",
       "      <td>Y</td>\n",
       "      <td>2009-06-10 00:00:00</td>\n",
       "      <td>3130</td>\n",
       "      <td>Ms.</td>\n",
       "      <td>Female</td>\n",
       "      <td>228.55</td>\n",
       "      <td>1960-01-14</td>\n",
       "      <td>...</td>\n",
       "      <td>Active</td>\n",
       "      <td>38.09</td>\n",
       "      <td>Registered</td>\n",
       "      <td>Online</td>\n",
       "      <td>6</td>\n",
       "      <td>Mulgrave</td>\n",
       "      <td>Y</td>\n",
       "      <td>Email</td>\n",
       "      <td>8.00</td>\n",
       "      <td>228.55</td>\n",
       "    </tr>\n",
       "    <tr>\n",
       "      <th>5111</th>\n",
       "      <td>1000037834</td>\n",
       "      <td>RANBAXY</td>\n",
       "      <td>2008-05-06 00:00:00</td>\n",
       "      <td>Y</td>\n",
       "      <td>2009-05-04 00:00:00</td>\n",
       "      <td>3363</td>\n",
       "      <td>Mrs.</td>\n",
       "      <td>Female</td>\n",
       "      <td>26.35</td>\n",
       "      <td>1971-12-22</td>\n",
       "      <td>...</td>\n",
       "      <td>Active</td>\n",
       "      <td>26.35</td>\n",
       "      <td>Registered</td>\n",
       "      <td>Instore/RF</td>\n",
       "      <td>1</td>\n",
       "      <td>WODONGA</td>\n",
       "      <td>Y</td>\n",
       "      <td>NaN</td>\n",
       "      <td>7.00</td>\n",
       "      <td>26.35</td>\n",
       "    </tr>\n",
       "  </tbody>\n",
       "</table>\n",
       "<p>5112 rows × 24 columns</p>\n",
       "</div>"
      ],
      "text/plain": [
       "      CUSTOMER_ID    Company        CARD_REG_DATE CARD_ACTIVE  \\\n",
       "0      1000032547      MED +  2006-09-12 00:00:00           Y   \n",
       "1      1000032548  DR.REDDYS  2006-09-12 00:00:00           Y   \n",
       "2      1000032549   RELEGARE  2006-09-12 00:00:00           Y   \n",
       "3      1000032550        GSK  2006-09-12 00:00:00           Y   \n",
       "4      1000032551        GSK  2006-09-12 00:00:00           Y   \n",
       "...           ...        ...                  ...         ...   \n",
       "5107   1000037830   RELEGARE  2008-05-06 00:00:00           Y   \n",
       "5108   1000037831     APPOLO  2008-05-06 00:00:00           Y   \n",
       "5109   1000037832        GSK  2008-05-06 00:00:00           Y   \n",
       "5110   1000037833      MED +  2008-05-06 00:00:00           Y   \n",
       "5111   1000037834    RANBAXY  2008-05-06 00:00:00           Y   \n",
       "\n",
       "            FIRST_USE_DTE  firstSTOR TITLE  GENDER  max spent        DOB  ...  \\\n",
       "0     2007-05-12 00:00:00       2587  Mrs.  Female      56.31 1984-09-15  ...   \n",
       "1     2007-03-12 00:00:00       4341   Ms.  Female     598.95 1974-07-15  ...   \n",
       "2     2007-02-12 00:00:00       1090  Mrs.  Female       1.56 1959-04-01  ...   \n",
       "3     2007-03-12 00:00:00       3179   Mr.    Male     115.76 1978-05-16  ...   \n",
       "4     2007-05-12 00:00:00       3135   Mr.    Male     305.90 1978-12-16  ...   \n",
       "...                   ...        ...   ...     ...        ...        ...  ...   \n",
       "5107  2009-05-02 00:00:00       3381   Mr.    Male     198.36 1935-11-23  ...   \n",
       "5108  2008-10-06 00:00:00       3244  Mrs.  Female      28.09 1956-08-27  ...   \n",
       "5109  2009-05-04 00:00:00       3381  Mrs.  Female     653.10 1982-05-13  ...   \n",
       "5110  2009-06-10 00:00:00       3130   Ms.  Female     228.55 1960-01-14  ...   \n",
       "5111  2009-05-04 00:00:00       3363  Mrs.  Female      26.35 1971-12-22  ...   \n",
       "\n",
       "     CUST_STAT  Avgsize spent   CARD_STAT  RGSTN_TYPE_IND NO_OF_TRIPS  \\\n",
       "0       Active          17.34  Registered          Online           4   \n",
       "1       Active          29.32  Registered          Online          17   \n",
       "2       Active           1.56  Registered          Online           1   \n",
       "3       Active          80.49  Registered          Online           2   \n",
       "4       Active          24.09  Registered          Online          12   \n",
       "...        ...            ...         ...             ...         ...   \n",
       "5107    Active          66.12  Registered          Online           3   \n",
       "5108    Active          28.09  Registered          Online           1   \n",
       "5109    Active          94.77  Registered           Phone           9   \n",
       "5110    Active          38.09  Registered          Online           6   \n",
       "5111    Active          26.35  Registered      Instore/RF           1   \n",
       "\n",
       "               TOWN EMAIL_IND CONTACT_PREF  Average_Qty_PER_ACC Spent amount  \n",
       "0           Kyabram         Y        Email                 2.75        69.37  \n",
       "1     Hawthorn East         Y        Email                 7.29       498.50  \n",
       "2           Revesby         Y        Email                 2.00         1.56  \n",
       "3      Willow Grove         Y        Email                26.00       160.98  \n",
       "4         mona vale         Y        Email                 6.33       289.10  \n",
       "...             ...       ...          ...                  ...          ...  \n",
       "5107       Kyvalley         N          NaN                21.33       198.36  \n",
       "5108      frankston         Y        Email                10.00        28.09  \n",
       "5109        KYABRAM         N          NaN                27.44       852.98  \n",
       "5110       Mulgrave         Y        Email                 8.00       228.55  \n",
       "5111        WODONGA         Y          NaN                 7.00        26.35  \n",
       "\n",
       "[5112 rows x 24 columns]"
      ]
     },
     "execution_count": 99,
     "metadata": {},
     "output_type": "execute_result"
    }
   ],
   "source": [
    "# IMPORTING DATA FROM EXCEL FILE\n",
    "\n",
    "import pandas as pd\n",
    "\n",
    "MED_2022=pd.read_excel(r'C:\\Users\\Debendra\\CRASH COURSE 2022\\PART-1\\A2.RAW_DATA\\MED_STORE_2022.xlsx',sheet_name='MED_AUS_DATA')\n",
    "\n",
    "MED_2022"
   ]
  },
  {
   "cell_type": "code",
   "execution_count": 100,
   "id": "f999a641",
   "metadata": {},
   "outputs": [
    {
     "data": {
      "text/plain": [
       "(5112, 24)"
      ]
     },
     "execution_count": 100,
     "metadata": {},
     "output_type": "execute_result"
    }
   ],
   "source": [
    "MED_2022.shape"
   ]
  },
  {
   "cell_type": "code",
   "execution_count": 101,
   "id": "0c6ded78",
   "metadata": {},
   "outputs": [
    {
     "name": "stdout",
     "output_type": "stream",
     "text": [
      "<class 'pandas.core.frame.DataFrame'>\n",
      "RangeIndex: 5112 entries, 0 to 5111\n",
      "Data columns (total 24 columns):\n",
      " #   Column               Non-Null Count  Dtype         \n",
      "---  ------               --------------  -----         \n",
      " 0   CUSTOMER_ID          5112 non-null   int64         \n",
      " 1   Company              5112 non-null   object        \n",
      " 2   CARD_REG_DATE        5112 non-null   object        \n",
      " 3   CARD_ACTIVE          5112 non-null   object        \n",
      " 4   FIRST_USE_DTE        5112 non-null   object        \n",
      " 5   firstSTOR            5112 non-null   int64         \n",
      " 6   TITLE                5112 non-null   object        \n",
      " 7   GENDER               5112 non-null   object        \n",
      " 8   max spent            5097 non-null   float64       \n",
      " 9   DOB                  5112 non-null   datetime64[ns]\n",
      " 10  FTD                  5112 non-null   object        \n",
      " 11  Age                  5112 non-null   int64         \n",
      " 12  STATE_CODE           5112 non-null   object        \n",
      " 13  POST_CODE            5112 non-null   int64         \n",
      " 14  CUST_STAT            5112 non-null   object        \n",
      " 15  Avgsize spent        5112 non-null   float64       \n",
      " 16  CARD_STAT            5112 non-null   object        \n",
      " 17  RGSTN_TYPE_IND       5112 non-null   object        \n",
      " 18  NO_OF_TRIPS          5112 non-null   int64         \n",
      " 19  TOWN                 5112 non-null   object        \n",
      " 20  EMAIL_IND            5112 non-null   object        \n",
      " 21  CONTACT_PREF         4219 non-null   object        \n",
      " 22  Average_Qty_PER_ACC  5112 non-null   float64       \n",
      " 23  Spent amount         5112 non-null   float64       \n",
      "dtypes: datetime64[ns](1), float64(4), int64(5), object(14)\n",
      "memory usage: 958.6+ KB\n"
     ]
    }
   ],
   "source": [
    "MED_2022.info()"
   ]
  },
  {
   "cell_type": "code",
   "execution_count": 102,
   "id": "aab1127f",
   "metadata": {},
   "outputs": [
    {
     "data": {
      "text/html": [
       "<div>\n",
       "<style scoped>\n",
       "    .dataframe tbody tr th:only-of-type {\n",
       "        vertical-align: middle;\n",
       "    }\n",
       "\n",
       "    .dataframe tbody tr th {\n",
       "        vertical-align: top;\n",
       "    }\n",
       "\n",
       "    .dataframe thead th {\n",
       "        text-align: right;\n",
       "    }\n",
       "</style>\n",
       "<table border=\"1\" class=\"dataframe\">\n",
       "  <thead>\n",
       "    <tr style=\"text-align: right;\">\n",
       "      <th></th>\n",
       "      <th>CUSTOMER_ID</th>\n",
       "      <th>Company</th>\n",
       "      <th>CARD_REG_DATE</th>\n",
       "      <th>CARD_ACTIVE</th>\n",
       "      <th>FIRST_USE_DTE</th>\n",
       "      <th>firstSTOR</th>\n",
       "      <th>TITLE</th>\n",
       "      <th>GENDER</th>\n",
       "      <th>max spent</th>\n",
       "      <th>DOB</th>\n",
       "      <th>...</th>\n",
       "      <th>CUST_STAT</th>\n",
       "      <th>Avgsize spent</th>\n",
       "      <th>CARD_STAT</th>\n",
       "      <th>RGSTN_TYPE_IND</th>\n",
       "      <th>NO_OF_TRIPS</th>\n",
       "      <th>TOWN</th>\n",
       "      <th>EMAIL_IND</th>\n",
       "      <th>CONTACT_PREF</th>\n",
       "      <th>Average_Qty_PER_ACC</th>\n",
       "      <th>Spent amount</th>\n",
       "    </tr>\n",
       "  </thead>\n",
       "  <tbody>\n",
       "    <tr>\n",
       "      <th>0</th>\n",
       "      <td>1000032547</td>\n",
       "      <td>MED +</td>\n",
       "      <td>12-09-2006 00:00</td>\n",
       "      <td>Y</td>\n",
       "      <td>12-05-2007 00:00</td>\n",
       "      <td>2587</td>\n",
       "      <td>Mrs.</td>\n",
       "      <td>Female</td>\n",
       "      <td>56.31</td>\n",
       "      <td>15-09-1984</td>\n",
       "      <td>...</td>\n",
       "      <td>Active</td>\n",
       "      <td>17.34</td>\n",
       "      <td>Registered</td>\n",
       "      <td>Online</td>\n",
       "      <td>4</td>\n",
       "      <td>Kyabram</td>\n",
       "      <td>Y</td>\n",
       "      <td>Email</td>\n",
       "      <td>2.75</td>\n",
       "      <td>69.37</td>\n",
       "    </tr>\n",
       "    <tr>\n",
       "      <th>1</th>\n",
       "      <td>1000032548</td>\n",
       "      <td>DR.REDDYS</td>\n",
       "      <td>12-09-2006 00:00</td>\n",
       "      <td>Y</td>\n",
       "      <td>12-03-2007 00:00</td>\n",
       "      <td>4341</td>\n",
       "      <td>Ms.</td>\n",
       "      <td>Female</td>\n",
       "      <td>598.95</td>\n",
       "      <td>15-07-1974</td>\n",
       "      <td>...</td>\n",
       "      <td>Active</td>\n",
       "      <td>29.32</td>\n",
       "      <td>Registered</td>\n",
       "      <td>Online</td>\n",
       "      <td>17</td>\n",
       "      <td>Hawthorn East</td>\n",
       "      <td>Y</td>\n",
       "      <td>Email</td>\n",
       "      <td>7.29</td>\n",
       "      <td>498.50</td>\n",
       "    </tr>\n",
       "    <tr>\n",
       "      <th>2</th>\n",
       "      <td>1000032549</td>\n",
       "      <td>RELEGARE</td>\n",
       "      <td>12-09-2006 00:00</td>\n",
       "      <td>Y</td>\n",
       "      <td>12-02-2007 00:00</td>\n",
       "      <td>1090</td>\n",
       "      <td>Mrs.</td>\n",
       "      <td>Female</td>\n",
       "      <td>1.56</td>\n",
       "      <td>01-04-1959</td>\n",
       "      <td>...</td>\n",
       "      <td>Active</td>\n",
       "      <td>1.56</td>\n",
       "      <td>Registered</td>\n",
       "      <td>Online</td>\n",
       "      <td>1</td>\n",
       "      <td>Revesby</td>\n",
       "      <td>Y</td>\n",
       "      <td>Email</td>\n",
       "      <td>2.00</td>\n",
       "      <td>1.56</td>\n",
       "    </tr>\n",
       "    <tr>\n",
       "      <th>3</th>\n",
       "      <td>1000032550</td>\n",
       "      <td>GSK</td>\n",
       "      <td>12-09-2006 00:00</td>\n",
       "      <td>Y</td>\n",
       "      <td>12-03-2007 00:00</td>\n",
       "      <td>3179</td>\n",
       "      <td>Mr.</td>\n",
       "      <td>Male</td>\n",
       "      <td>115.76</td>\n",
       "      <td>16-05-1978</td>\n",
       "      <td>...</td>\n",
       "      <td>Active</td>\n",
       "      <td>80.49</td>\n",
       "      <td>Registered</td>\n",
       "      <td>Online</td>\n",
       "      <td>2</td>\n",
       "      <td>Willow Grove</td>\n",
       "      <td>Y</td>\n",
       "      <td>Email</td>\n",
       "      <td>26.00</td>\n",
       "      <td>160.98</td>\n",
       "    </tr>\n",
       "    <tr>\n",
       "      <th>4</th>\n",
       "      <td>1000032551</td>\n",
       "      <td>GSK</td>\n",
       "      <td>12-09-2006 00:00</td>\n",
       "      <td>Y</td>\n",
       "      <td>12-05-2007 00:00</td>\n",
       "      <td>3135</td>\n",
       "      <td>Mr.</td>\n",
       "      <td>Male</td>\n",
       "      <td>305.90</td>\n",
       "      <td>16-12-1978</td>\n",
       "      <td>...</td>\n",
       "      <td>Active</td>\n",
       "      <td>24.09</td>\n",
       "      <td>Registered</td>\n",
       "      <td>Online</td>\n",
       "      <td>12</td>\n",
       "      <td>mona vale</td>\n",
       "      <td>Y</td>\n",
       "      <td>Email</td>\n",
       "      <td>6.33</td>\n",
       "      <td>289.10</td>\n",
       "    </tr>\n",
       "    <tr>\n",
       "      <th>...</th>\n",
       "      <td>...</td>\n",
       "      <td>...</td>\n",
       "      <td>...</td>\n",
       "      <td>...</td>\n",
       "      <td>...</td>\n",
       "      <td>...</td>\n",
       "      <td>...</td>\n",
       "      <td>...</td>\n",
       "      <td>...</td>\n",
       "      <td>...</td>\n",
       "      <td>...</td>\n",
       "      <td>...</td>\n",
       "      <td>...</td>\n",
       "      <td>...</td>\n",
       "      <td>...</td>\n",
       "      <td>...</td>\n",
       "      <td>...</td>\n",
       "      <td>...</td>\n",
       "      <td>...</td>\n",
       "      <td>...</td>\n",
       "      <td>...</td>\n",
       "    </tr>\n",
       "    <tr>\n",
       "      <th>5107</th>\n",
       "      <td>1000037830</td>\n",
       "      <td>RELEGARE</td>\n",
       "      <td>06-05-2008 00:00</td>\n",
       "      <td>Y</td>\n",
       "      <td>02-05-2009 00:00</td>\n",
       "      <td>3381</td>\n",
       "      <td>Mr.</td>\n",
       "      <td>Male</td>\n",
       "      <td>198.36</td>\n",
       "      <td>23-11-1935</td>\n",
       "      <td>...</td>\n",
       "      <td>Active</td>\n",
       "      <td>66.12</td>\n",
       "      <td>Registered</td>\n",
       "      <td>Online</td>\n",
       "      <td>3</td>\n",
       "      <td>Kyvalley</td>\n",
       "      <td>N</td>\n",
       "      <td>NaN</td>\n",
       "      <td>21.33</td>\n",
       "      <td>198.36</td>\n",
       "    </tr>\n",
       "    <tr>\n",
       "      <th>5108</th>\n",
       "      <td>1000037831</td>\n",
       "      <td>APPOLO</td>\n",
       "      <td>06-05-2008 00:00</td>\n",
       "      <td>Y</td>\n",
       "      <td>06-10-2008 00:00</td>\n",
       "      <td>3244</td>\n",
       "      <td>Mrs.</td>\n",
       "      <td>Female</td>\n",
       "      <td>28.09</td>\n",
       "      <td>27-08-1956</td>\n",
       "      <td>...</td>\n",
       "      <td>Active</td>\n",
       "      <td>28.09</td>\n",
       "      <td>Registered</td>\n",
       "      <td>Online</td>\n",
       "      <td>1</td>\n",
       "      <td>frankston</td>\n",
       "      <td>Y</td>\n",
       "      <td>Email</td>\n",
       "      <td>10.00</td>\n",
       "      <td>28.09</td>\n",
       "    </tr>\n",
       "    <tr>\n",
       "      <th>5109</th>\n",
       "      <td>1000037832</td>\n",
       "      <td>GSK</td>\n",
       "      <td>06-05-2008 00:00</td>\n",
       "      <td>Y</td>\n",
       "      <td>04-05-2009 00:00</td>\n",
       "      <td>3381</td>\n",
       "      <td>Mrs.</td>\n",
       "      <td>Female</td>\n",
       "      <td>653.10</td>\n",
       "      <td>13-05-1982</td>\n",
       "      <td>...</td>\n",
       "      <td>Active</td>\n",
       "      <td>94.77</td>\n",
       "      <td>Registered</td>\n",
       "      <td>Phone</td>\n",
       "      <td>9</td>\n",
       "      <td>KYABRAM</td>\n",
       "      <td>N</td>\n",
       "      <td>NaN</td>\n",
       "      <td>27.44</td>\n",
       "      <td>852.98</td>\n",
       "    </tr>\n",
       "    <tr>\n",
       "      <th>5110</th>\n",
       "      <td>1000037833</td>\n",
       "      <td>MED +</td>\n",
       "      <td>06-05-2008 00:00</td>\n",
       "      <td>Y</td>\n",
       "      <td>10-06-2009 00:00</td>\n",
       "      <td>3130</td>\n",
       "      <td>Ms.</td>\n",
       "      <td>Female</td>\n",
       "      <td>228.55</td>\n",
       "      <td>14-01-1960</td>\n",
       "      <td>...</td>\n",
       "      <td>Active</td>\n",
       "      <td>38.09</td>\n",
       "      <td>Registered</td>\n",
       "      <td>Online</td>\n",
       "      <td>6</td>\n",
       "      <td>Mulgrave</td>\n",
       "      <td>Y</td>\n",
       "      <td>Email</td>\n",
       "      <td>8.00</td>\n",
       "      <td>228.55</td>\n",
       "    </tr>\n",
       "    <tr>\n",
       "      <th>5111</th>\n",
       "      <td>1000037834</td>\n",
       "      <td>RANBAXY</td>\n",
       "      <td>06-05-2008 00:00</td>\n",
       "      <td>Y</td>\n",
       "      <td>04-05-2009 00:00</td>\n",
       "      <td>3363</td>\n",
       "      <td>Mrs.</td>\n",
       "      <td>Female</td>\n",
       "      <td>26.35</td>\n",
       "      <td>22-12-1971</td>\n",
       "      <td>...</td>\n",
       "      <td>Active</td>\n",
       "      <td>26.35</td>\n",
       "      <td>Registered</td>\n",
       "      <td>Instore/RF</td>\n",
       "      <td>1</td>\n",
       "      <td>WODONGA</td>\n",
       "      <td>Y</td>\n",
       "      <td>NaN</td>\n",
       "      <td>7.00</td>\n",
       "      <td>26.35</td>\n",
       "    </tr>\n",
       "  </tbody>\n",
       "</table>\n",
       "<p>5112 rows × 24 columns</p>\n",
       "</div>"
      ],
      "text/plain": [
       "      CUSTOMER_ID    Company     CARD_REG_DATE CARD_ACTIVE     FIRST_USE_DTE  \\\n",
       "0      1000032547      MED +  12-09-2006 00:00           Y  12-05-2007 00:00   \n",
       "1      1000032548  DR.REDDYS  12-09-2006 00:00           Y  12-03-2007 00:00   \n",
       "2      1000032549   RELEGARE  12-09-2006 00:00           Y  12-02-2007 00:00   \n",
       "3      1000032550        GSK  12-09-2006 00:00           Y  12-03-2007 00:00   \n",
       "4      1000032551        GSK  12-09-2006 00:00           Y  12-05-2007 00:00   \n",
       "...           ...        ...               ...         ...               ...   \n",
       "5107   1000037830   RELEGARE  06-05-2008 00:00           Y  02-05-2009 00:00   \n",
       "5108   1000037831     APPOLO  06-05-2008 00:00           Y  06-10-2008 00:00   \n",
       "5109   1000037832        GSK  06-05-2008 00:00           Y  04-05-2009 00:00   \n",
       "5110   1000037833      MED +  06-05-2008 00:00           Y  10-06-2009 00:00   \n",
       "5111   1000037834    RANBAXY  06-05-2008 00:00           Y  04-05-2009 00:00   \n",
       "\n",
       "      firstSTOR TITLE  GENDER  max spent         DOB  ... CUST_STAT  \\\n",
       "0          2587  Mrs.  Female      56.31  15-09-1984  ...    Active   \n",
       "1          4341   Ms.  Female     598.95  15-07-1974  ...    Active   \n",
       "2          1090  Mrs.  Female       1.56  01-04-1959  ...    Active   \n",
       "3          3179   Mr.    Male     115.76  16-05-1978  ...    Active   \n",
       "4          3135   Mr.    Male     305.90  16-12-1978  ...    Active   \n",
       "...         ...   ...     ...        ...         ...  ...       ...   \n",
       "5107       3381   Mr.    Male     198.36  23-11-1935  ...    Active   \n",
       "5108       3244  Mrs.  Female      28.09  27-08-1956  ...    Active   \n",
       "5109       3381  Mrs.  Female     653.10  13-05-1982  ...    Active   \n",
       "5110       3130   Ms.  Female     228.55  14-01-1960  ...    Active   \n",
       "5111       3363  Mrs.  Female      26.35  22-12-1971  ...    Active   \n",
       "\n",
       "      Avgsize spent   CARD_STAT  RGSTN_TYPE_IND NO_OF_TRIPS           TOWN  \\\n",
       "0             17.34  Registered          Online           4        Kyabram   \n",
       "1             29.32  Registered          Online          17  Hawthorn East   \n",
       "2              1.56  Registered          Online           1        Revesby   \n",
       "3             80.49  Registered          Online           2   Willow Grove   \n",
       "4             24.09  Registered          Online          12      mona vale   \n",
       "...             ...         ...             ...         ...            ...   \n",
       "5107          66.12  Registered          Online           3       Kyvalley   \n",
       "5108          28.09  Registered          Online           1      frankston   \n",
       "5109          94.77  Registered           Phone           9        KYABRAM   \n",
       "5110          38.09  Registered          Online           6       Mulgrave   \n",
       "5111          26.35  Registered      Instore/RF           1        WODONGA   \n",
       "\n",
       "     EMAIL_IND CONTACT_PREF  Average_Qty_PER_ACC Spent amount  \n",
       "0            Y        Email                 2.75        69.37  \n",
       "1            Y        Email                 7.29       498.50  \n",
       "2            Y        Email                 2.00         1.56  \n",
       "3            Y        Email                26.00       160.98  \n",
       "4            Y        Email                 6.33       289.10  \n",
       "...        ...          ...                  ...          ...  \n",
       "5107         N          NaN                21.33       198.36  \n",
       "5108         Y        Email                10.00        28.09  \n",
       "5109         N          NaN                27.44       852.98  \n",
       "5110         Y        Email                 8.00       228.55  \n",
       "5111         Y          NaN                 7.00        26.35  \n",
       "\n",
       "[5112 rows x 24 columns]"
      ]
     },
     "execution_count": 102,
     "metadata": {},
     "output_type": "execute_result"
    }
   ],
   "source": [
    "# IMPORTING DATA FROM CSV FILE\n",
    "\n",
    "import pandas as pd\n",
    "\n",
    "MED_2022_CSV=pd.read_csv(r'C:\\Users\\Debendra\\CRASH COURSE 2022\\PART-1\\A2.RAW_DATA\\MED_STORE_2022.csv')\n",
    "\n",
    "MED_2022_CSV\n"
   ]
  },
  {
   "cell_type": "code",
   "execution_count": null,
   "id": "72d6e878",
   "metadata": {},
   "outputs": [],
   "source": [
    "# IMPORTING DATA FROM TXT FILE\n",
    "\n",
    "import pandas as pd\n",
    "\n",
    "MED_2022_txt=pd.read_csv(r'C:\\Users\\Debendra\\CRASH COURSE 2022\\PART-1\\A2.RAW_DATA\\MED_STORE_2022.txt',sep=',')\n",
    "\n",
    "MED_2022_txt"
   ]
  },
  {
   "cell_type": "markdown",
   "id": "f7620877",
   "metadata": {},
   "source": [
    "# DATA EXPORTING FROM PYTHON TO EXCEL,CSV AND TXT FILE"
   ]
  },
  {
   "cell_type": "code",
   "execution_count": null,
   "id": "86c2fefc",
   "metadata": {},
   "outputs": [],
   "source": [
    "# EXPORTING DATA FROM PYTHON TO EXCEL CSV AND TXT FILE\n",
    "\n",
    "import pandas as pd\n",
    "\n",
    "MED_2022.to_excel(r'C:\\Users\\Debendra\\CRASH COURSE 2022\\PART-1\\A4.OUTPUT\\MED_2022_EXP.xlsx',sheet_name='MED_AUS_EXP')\n",
    "\n",
    "MED_2022.to_csv(r'C:\\Users\\Debendra\\CRASH COURSE 2022\\PART-1\\A4.OUTPUT\\MED_2022_EXP.csv')\n",
    "\n",
    "MED_2022.to_csv(r'C:\\Users\\Debendra\\CRASH COURSE 2022\\PART-1\\A4.OUTPUT\\MED_2022_EXP.txt',sep='|')"
   ]
  },
  {
   "cell_type": "code",
   "execution_count": null,
   "id": "6e18c115",
   "metadata": {},
   "outputs": [],
   "source": [
    "# EXPORTING DATA FROM PYTHON TO EXCEL CSV AND TXT FILE\n",
    "\n",
    "import pandas as pd\n",
    "\n",
    "MED_2022.to_excel(r'C:\\Users\\Debendra\\CRASH COURSE 2022\\PART-1\\A4.OUTPUT\\MED_2022_EXP.xlsx',sheet_name='MED_AUS_EXP')"
   ]
  },
  {
   "cell_type": "code",
   "execution_count": null,
   "id": "cd73fa5d",
   "metadata": {},
   "outputs": [],
   "source": [
    "# HOW TO CONNECT TO SQL SERVER DATABASE\n",
    "\n",
    "import pandas as pd\n",
    "import pyodbc \n",
    "\n",
    "conn = pyodbc.connect('Driver={SQL Server};'\n",
    "                      'Server=RON\\SQLEXPRESS;'\n",
    "                      'Database=test_database;'\n",
    "                      'Trusted_Connection=yes;')\n",
    "\n",
    "df = pd.read_sql_query('SELECT * FROM products', conn)\n",
    "\n",
    "print(df)"
   ]
  },
  {
   "cell_type": "code",
   "execution_count": null,
   "id": "17981cde",
   "metadata": {},
   "outputs": [],
   "source": [
    "import mysql.connector\n",
    "\n",
    "mydb = mysql.connector.connect(\n",
    "  host=\"localhost\",\n",
    "  user=\"devd\",\n",
    "  password=\"das@123\",\n",
    "  database=\"Batch_202112\"\n",
    ")\n",
    "\n",
    "mycursor = mydb.cursor()\n",
    "\n",
    "mycursor.execute(\"SELECT * FROM MED_2022\")\n",
    "\n",
    "myresult = mycursor.fetchall()\n",
    "\n",
    "for x in myresult:\n",
    "print(x)"
   ]
  },
  {
   "cell_type": "markdown",
   "id": "47459f6a",
   "metadata": {},
   "source": [
    "# HOW TO DESCRIBE A TABLE BY SHAPE,HEAD,TAIL,COLUMNS.VALUES,DTYPE,INFO(),DESCRIBE()"
   ]
  },
  {
   "cell_type": "code",
   "execution_count": null,
   "id": "ed50eb5e",
   "metadata": {},
   "outputs": [],
   "source": [
    "MED_2022.shape"
   ]
  },
  {
   "cell_type": "code",
   "execution_count": null,
   "id": "3f563350",
   "metadata": {},
   "outputs": [],
   "source": [
    "MED_2022.info()"
   ]
  },
  {
   "cell_type": "code",
   "execution_count": null,
   "id": "a17a4476",
   "metadata": {},
   "outputs": [],
   "source": [
    "MED_2022.describe()"
   ]
  },
  {
   "cell_type": "code",
   "execution_count": null,
   "id": "f941382f",
   "metadata": {},
   "outputs": [],
   "source": [
    "MED_2022.dtypes"
   ]
  },
  {
   "cell_type": "code",
   "execution_count": null,
   "id": "f303e2db",
   "metadata": {},
   "outputs": [],
   "source": [
    "MED_2022.head(100)"
   ]
  },
  {
   "cell_type": "code",
   "execution_count": null,
   "id": "348cf67f",
   "metadata": {},
   "outputs": [],
   "source": [
    "MED_2022.tail(100)"
   ]
  },
  {
   "cell_type": "code",
   "execution_count": null,
   "id": "230e8159",
   "metadata": {},
   "outputs": [],
   "source": []
  },
  {
   "cell_type": "markdown",
   "id": "6d9be6ff",
   "metadata": {},
   "source": [
    "# HOW TO CREATE A NEW TABLE FROM AN EXISTING TABLE"
   ]
  },
  {
   "cell_type": "code",
   "execution_count": null,
   "id": "f38f76e5",
   "metadata": {},
   "outputs": [],
   "source": [
    "MED_2022_V1=MED_2022.copy (deep=True)\n",
    "\n",
    "MED_2022_V1"
   ]
  },
  {
   "cell_type": "code",
   "execution_count": null,
   "id": "3c7f16e9",
   "metadata": {},
   "outputs": [],
   "source": [
    "MED_2022_V1=MED_2022[['CUSTOMER_ID','Company','GENDER','Age']]\n",
    "\n",
    "MED_2022_V1"
   ]
  },
  {
   "cell_type": "code",
   "execution_count": null,
   "id": "98d57700",
   "metadata": {},
   "outputs": [],
   "source": [
    "MED_2022_V1=MED_2022[['CUSTOMER_ID','Company','GENDER','Age']][0:100]\n",
    "\n",
    "MED_2022_V1"
   ]
  },
  {
   "cell_type": "code",
   "execution_count": null,
   "id": "76217562",
   "metadata": {},
   "outputs": [],
   "source": [
    "MED_2022.CONTACT_PREF.isnull()"
   ]
  },
  {
   "cell_type": "code",
   "execution_count": 103,
   "id": "aa295cd2",
   "metadata": {},
   "outputs": [
    {
     "name": "stdout",
     "output_type": "stream",
     "text": [
      "893\n"
     ]
    }
   ],
   "source": [
    "#TO GET COUNT OF MISSING RECORDS\n",
    "\n",
    "import pandas as pd \n",
    "import numpy as np    \n",
    "  \n",
    "# total count of NaN values\n",
    "print(MED_2022.CONTACT_PREF.isnull().sum().sum())"
   ]
  },
  {
   "cell_type": "code",
   "execution_count": 104,
   "id": "80e195d2",
   "metadata": {},
   "outputs": [
    {
     "name": "stdout",
     "output_type": "stream",
     "text": [
      "6\n"
     ]
    }
   ],
   "source": [
    "#TO GET COUNT OF MISSING RECORDS- DATAFRAME EXAMPLE\n",
    "\n",
    "import pandas as pd \n",
    "import numpy as np\n",
    "    \n",
    "# dictionary of lists \n",
    "dict = {'A':[1, 4, 6, 9],\n",
    "        'B':[np.NaN, 5, 8, np.NaN],\n",
    "        'C':[7, 3, np.NaN, 2],\n",
    "        'D':[1, np.NaN, np.NaN, np.NaN]} \n",
    "    \n",
    "# creating dataframe from the\n",
    "# dictionary \n",
    "data = pd.DataFrame(dict) \n",
    "  \n",
    "# total count of NaN values\n",
    "print(data.isnull().sum().sum())"
   ]
  },
  {
   "cell_type": "code",
   "execution_count": null,
   "id": "876a0459",
   "metadata": {},
   "outputs": [],
   "source": []
  }
 ],
 "metadata": {
  "kernelspec": {
   "display_name": "Python 3 (ipykernel)",
   "language": "python",
   "name": "python3"
  },
  "language_info": {
   "codemirror_mode": {
    "name": "ipython",
    "version": 3
   },
   "file_extension": ".py",
   "mimetype": "text/x-python",
   "name": "python",
   "nbconvert_exporter": "python",
   "pygments_lexer": "ipython3",
   "version": "3.9.7"
  }
 },
 "nbformat": 4,
 "nbformat_minor": 5
}
